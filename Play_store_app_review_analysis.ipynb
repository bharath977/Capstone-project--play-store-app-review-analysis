{
  "nbformat": 4,
  "nbformat_minor": 0,
  "metadata": {
    "colab": {
      "private_outputs": true,
      "provenance": [],
      "collapsed_sections": [
        "85gYPyotYoAp",
        "RoGjAbkUYoAp",
        "iky9q4vBYrdO",
        "F6T5p64dYrdO",
        "y-Ehk30pYrdP",
        "bamQiAODYuh1",
        "QHF8YVU7Yuh3",
        "GwzvFGzlYuh3",
        "qYpmQ266Yuh3",
        "OH-pJp9IphqM",
        "bbFf2-_FphqN",
        "_ouA3fa0phqN",
        "Seke61FWphqN",
        "PIIx-8_IphqN",
        "t27r6nlMphqO",
        "r2jJGEOYphqO",
        "b0JNsNcRphqO",
        "BZR9WyysphqO",
        "jj7wYXLtphqO",
        "eZrbJ2SmphqO",
        "rFu4xreNphqO",
        "YJ55k-q6phqO",
        "gCFgpxoyphqP",
        "OVtJsKN_phqQ",
        "lssrdh5qphqQ",
        "U2RJ9gkRphqQ",
        "1M8mcRywphqQ",
        "tgIPom80phqQ",
        "JMzcOPDDphqR",
        "x-EpHcCOp1ci",
        "X_VqEhTip1ck",
        "8zGJKyg5p1ck",
        "PVzmfK_Ep1ck",
        "n3dbpmDWp1ck",
        "ylSl6qgtp1ck",
        "ZWILFDl5p1ck",
        "M7G43BXep1ck",
        "Ag9LCva-p1cl",
        "E6MkPsBcp1cl",
        "2cELzS2fp1cl",
        "3MPXvC8up1cl",
        "NC_X3p0fY2L0",
        "UV0SzAkaZNRQ",
        "YPEH6qLeZNRQ",
        "q29F0dvdveiT",
        "EXh0U9oCveiU",
        "22aHeOlLveiV",
        "8G2x9gOozGDZ",
        "gCX9965dhzqZ",
        "gIfDvo9L0UH2"
      ],
      "include_colab_link": true
    },
    "kernelspec": {
      "name": "python3",
      "display_name": "Python 3"
    },
    "language_info": {
      "name": "python"
    }
  },
  "cells": [
    {
      "cell_type": "markdown",
      "metadata": {
        "id": "view-in-github",
        "colab_type": "text"
      },
      "source": [
        "<a href=\"https://colab.research.google.com/github/bharath977/Capstone-project--play-store-app-review-analysis/blob/main/Play_store_app_review_analysis.ipynb\" target=\"_parent\"><img src=\"https://colab.research.google.com/assets/colab-badge.svg\" alt=\"Open In Colab\"/></a>"
      ]
    },
    {
      "cell_type": "markdown",
      "source": [
        "# **Project Name**    - Play Store App Review Analysis \n",
        "\n",
        "![images.jpg](data:image/jpeg;base64,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)"
      ],
      "metadata": {
        "id": "r35WQ9pzrId5"
      }
    },
    {
      "cell_type": "markdown",
      "source": [
        "##### **Project Type**    - EDA/Regression/Classification/Unsupervised\n",
        "##### **Contribution**    - Individual"
      ],
      "metadata": {
        "id": "beRrZCGUAJYm"
      }
    },
    {
      "cell_type": "markdown",
      "source": [
        "# **Project Summary -**"
      ],
      "metadata": {
        "id": "FJNUwmbgGyua"
      }
    },
    {
      "cell_type": "markdown",
      "source": [
        "Write the summary here within 500-600 words.\n",
        "\n",
        "Google Play Store is a digital distribution service developed and operated by google, It is an official apps store that provides variety content such as apps, books, magazines, music, movies and television programs. It serves an as platform to allow users with 'Google certified' Android operating system devices to donwload applications developed and published on the platform either with a charge or free of cost. With the rapidly growth of Android devices and apps, it would be interesting to perform data analysis on the data to obtain valuable insights.\n",
        "\n",
        "In this project we examine the different attributes present in the data set that affect the popularity of the application. We focused on to answer the questions like, what makes an app popular, what should be the price and size of the app. In our data set we have two csv files for data analysis: Play Store data User Reviews At first, we analysis the play store data and in the play store data we have 10841 rows and 13 columns & in the user review data we have 64295 rows and 5 columns of data. We have to take the maximum outcomes from the data which help us to analysis the which type of app is most preferable and comparisons between different insights. Our goal is to filter and make plots accordingly for a better EDA with respect to the final data.\n",
        "\n",
        "The dataset with 10k Play Store applications is available to analyze the market of android. It can be examined to analysis the different Category App, Rating, Reviews, Size, Installs, Type, Price, Content, Rating, Genres, Last Updated, Current Ver, Android Ver."
      ],
      "metadata": {
        "id": "F6v_1wHtG2nS"
      }
    },
    {
      "cell_type": "markdown",
      "source": [
        "# **GitHub Link -**"
      ],
      "metadata": {
        "id": "w6K7xa23Elo4"
      }
    },
    {
      "cell_type": "markdown",
      "source": [
        "Provide your GitHub Link here.\n",
        "\n",
        "https://github.com/bharath977/Capstone-project--play-store-app-review-analysis.git"
      ],
      "metadata": {
        "id": "h1o69JH3Eqqn"
      }
    },
    {
      "cell_type": "markdown",
      "source": [
        "# **Problem Statement**\n"
      ],
      "metadata": {
        "id": "yQaldy8SH6Dl"
      }
    },
    {
      "cell_type": "markdown",
      "source": [
        "[link text](https://)**Write Problem Statement Here.**\n",
        "Android is expanding as an operating system. It has captured around 74% of the total market which is a true indicator of the huge amount of population using android. Our goal is to help android developers to know what is the motivating factor for people to download an app. It will also help to find out the factors that affect someone’s decision to download an app. I would like to analyse category, reviews, price, ratings and installs for this purpose and find out how they are inter related.\n",
        "\n",
        "1.Find the correlaction of the data set?\n",
        "\n",
        "2.which Category has highest installations?\n",
        "\n",
        "4.Does the size of an app affect its rating?\n",
        "\n",
        "5.How does the count of apps varies by Genres?\n",
        "\n",
        "6.How Content Rating affect over the App?\n",
        "\n",
        "7.Sentiment analysis of user reviews?\n",
        "\n",
        "8.variances different between Paid and Free apps?\n",
        "\n",
        "9.Dose price affect the rating?\n",
        "\n",
        "\n",
        "\n"
      ],
      "metadata": {
        "id": "DpeJGUA3kjGy"
      }
    },
    {
      "cell_type": "markdown",
      "source": [
        "#### **Define Your Business Objective?**"
      ],
      "metadata": {
        "id": "PH-0ReGfmX4f"
      }
    },
    {
      "cell_type": "markdown",
      "source": [
        "Answer Here."
      ],
      "metadata": {
        "id": "PhDvGCAqmjP1"
      }
    },
    {
      "cell_type": "markdown",
      "source": [
        "# **General Guidelines** : -  "
      ],
      "metadata": {
        "id": "mDgbUHAGgjLW"
      }
    },
    {
      "cell_type": "markdown",
      "source": [
        "1.   Well-structured, formatted, and commented code is required. \n",
        "2.   Exception Handling, Production Grade Code & Deployment Ready Code will be a plus. Those students will be awarded some additional credits.      \n",
        "     The additional credits will have advantages over other students during Star Student selection.\n",
        "       \n",
        "             [ Note: - Deployment Ready Code is defined as, the whole .ipynb notebook should be executable in one go\n",
        "                       without a single error logged. ]\n",
        "\n",
        "3.   Each and every logic should have proper comments.\n",
        "4. You may add as many number of charts you want. Make Sure for each and every chart the following format should be answered.\n",
        "        \n",
        "\n",
        "```\n",
        "# Chart visualization code\n",
        "```\n",
        "            \n",
        "\n",
        "*   Why did you pick the specific chart?\n",
        "*   What is/are the insight(s) found from the chart?\n",
        "* Will the gained insights help creating a positive business impact? \n",
        "Are there any insights that lead to negative growth? Justify with specific reason.\n",
        "\n",
        "5. You have to create at least 20 logical & meaningful charts having important insights.\n",
        "\n",
        "\n",
        "[ Hints : - Do the Vizualization in  a structured way while following \"UBM\" Rule. \n",
        "\n",
        "U - Univariate Analysis,\n",
        "\n",
        "B - Bivariate Analysis (Numerical - Categorical, Numerical - Numerical, Categorical - Categorical)\n",
        "\n",
        "M - Multivariate Analysis\n",
        " ]\n",
        "\n",
        "\n",
        "\n"
      ],
      "metadata": {
        "id": "ZrxVaUj-hHfC"
      }
    },
    {
      "cell_type": "markdown",
      "source": [
        "# ***Let's Begin !***"
      ],
      "metadata": {
        "id": "O_i_v8NEhb9l"
      }
    },
    {
      "cell_type": "markdown",
      "source": [
        "## ***1. Know Your Data***"
      ],
      "metadata": {
        "id": "HhfV-JJviCcP"
      }
    },
    {
      "cell_type": "markdown",
      "source": [
        "### Import Libraries"
      ],
      "metadata": {
        "id": "Y3lxredqlCYt"
      }
    },
    {
      "cell_type": "code",
      "source": [
        "# Import Libraries\n",
        "import numpy as np\n",
        "import pandas as pd\n",
        "import seaborn as sns\n",
        "import matplotlib.pyplot as plt\n",
        "import missingno as msno\n",
        "%matplotlib inline"
      ],
      "metadata": {
        "id": "M8Vqi-pPk-HR"
      },
      "execution_count": null,
      "outputs": []
    },
    {
      "cell_type": "markdown",
      "source": [
        "### Dataset Loading"
      ],
      "metadata": {
        "id": "3RnN4peoiCZX"
      }
    },
    {
      "cell_type": "code",
      "source": [
        "# Load Dataset\n",
        "from google.colab import drive\n",
        "drive.mount('/content/drive')"
      ],
      "metadata": {
        "id": "4CkvbW_SlZ_R"
      },
      "execution_count": null,
      "outputs": []
    },
    {
      "cell_type": "markdown",
      "source": [
        "### Dataset First View"
      ],
      "metadata": {
        "id": "x71ZqKXriCWQ"
      }
    },
    {
      "cell_type": "code",
      "source": [
        "# Dataset First Look\n",
        "file_location = file_location = '/content/drive/MyDrive/play store review analysis/'\n",
        "df_store = pd.read_csv(file_location + 'Play Store Data.csv')\n",
        "df_review = pd.read_csv(file_location + 'User Reviews.csv')"
      ],
      "metadata": {
        "id": "LWNFOSvLl09H"
      },
      "execution_count": null,
      "outputs": []
    },
    {
      "cell_type": "markdown",
      "source": [
        "### Dataset Rows & Columns count"
      ],
      "metadata": {
        "id": "7hBIi_osiCS2"
      }
    },
    {
      "cell_type": "code",
      "source": [
        "# Dataset Rows & Columns count\n",
        "# Dataset First Look\n",
        "df_store.head()"
      ],
      "metadata": {
        "id": "Kllu7SJgmLij"
      },
      "execution_count": null,
      "outputs": []
    },
    {
      "cell_type": "code",
      "source": [
        "#Play store data.csv Dataset First Look\n",
        "df_review.head()"
      ],
      "metadata": {
        "id": "R5Q4Q9c_EsBq"
      },
      "execution_count": null,
      "outputs": []
    },
    {
      "cell_type": "code",
      "source": [
        "# last 5 rows of play store data dataset\n",
        "df_store.tail()"
      ],
      "metadata": {
        "id": "YiOg7u1NEv0U"
      },
      "execution_count": null,
      "outputs": []
    },
    {
      "cell_type": "code",
      "source": [
        "# last 5 rows of play store data dataset\n",
        "df_review.tail()"
      ],
      "metadata": {
        "id": "704DECG5EzE7"
      },
      "execution_count": null,
      "outputs": []
    },
    {
      "cell_type": "code",
      "source": [
        "# Dataset Rows & Columns count\n",
        "# firstly, we counted row and columns of play store dataset\n",
        "# computing number of rows\n",
        "rows_playstore = (df_store.axes[0])\n",
        " \n",
        "# computing number of columns\n",
        "columns_playstore = (df_store.axes[1])\n",
        " \n",
        "print(len(rows_playstore))\n",
        "print(len(columns_playstore))"
      ],
      "metadata": {
        "id": "wjjg3pVWFONF"
      },
      "execution_count": null,
      "outputs": []
    },
    {
      "cell_type": "code",
      "source": [
        "# Dataset Rows & Columns count\n",
        "# firstly, we counted row and columns of play store dataset\n",
        "# computing number of rows\n",
        "rows_playstore = (df_review.axes[0])\n",
        " \n",
        "# computing number of columns\n",
        "columns_playstore = (df_review.axes[1])\n",
        " \n",
        "print(len(rows_playstore))\n",
        "print(len(columns_playstore))"
      ],
      "metadata": {
        "id": "0INhjD-l3AXa"
      },
      "execution_count": null,
      "outputs": []
    },
    {
      "cell_type": "markdown",
      "source": [
        "### Dataset Information"
      ],
      "metadata": {
        "id": "JlHwYmJAmNHm"
      }
    },
    {
      "cell_type": "code",
      "source": [
        "# Dataset Info\n",
        "\n",
        "df_store.info()"
      ],
      "metadata": {
        "id": "e9hRXRi6meOf"
      },
      "execution_count": null,
      "outputs": []
    },
    {
      "cell_type": "code",
      "source": [
        "df_review.info()"
      ],
      "metadata": {
        "id": "-SCuR_eMKUi2"
      },
      "execution_count": null,
      "outputs": []
    },
    {
      "cell_type": "markdown",
      "source": [
        "#### Duplicate Values"
      ],
      "metadata": {
        "id": "35m5QtbWiB9F"
      }
    },
    {
      "cell_type": "code",
      "source": [
        "\n",
        "# Dataset Duplicate Value Count in play store.csv \n",
        "duplicate_value = df_store[df_store.duplicated()]\n",
        "print(len(duplicate_value))\n",
        "#duplicate values in user review.csv\n",
        "duplicate_value1 = df_review[df_review.duplicated()]\n",
        "print(len(duplicate_value1))\n"
      ],
      "metadata": {
        "id": "ZI156-xK3Sdf"
      },
      "execution_count": null,
      "outputs": []
    },
    {
      "cell_type": "markdown",
      "source": [
        "#### Missing Values/Null Values"
      ],
      "metadata": {
        "id": "PoPl-ycgm1ru"
      }
    },
    {
      "cell_type": "code",
      "source": [
        "# Missing Values/Null Values Count\n",
        "#firstly, in play store dataset\n",
        "print (f\"Missing Values in each column\"+\"\\n\" + \"--\")\n",
        "\n",
        "#sum of null values per column \n",
        "df_store.isnull().sum()"
      ],
      "metadata": {
        "id": "pv-bU3_11dKh"
      },
      "execution_count": null,
      "outputs": []
    },
    {
      "cell_type": "code",
      "source": [
        "# Missing Values/Null Values Count\n",
        "#secondly, in user review dataset\n",
        "print (f\"Missing Values in each column\"+\"\\n\" + \"--\")\n",
        "\n",
        "#sum of null values per column \n",
        "df_review.isnull().sum()"
      ],
      "metadata": {
        "id": "_U5RUgj13l0U"
      },
      "execution_count": null,
      "outputs": []
    },
    {
      "cell_type": "code",
      "source": [
        "# Visualizing the missing values\n",
        "# create a matrix of missing values with custom colors and size\n",
        "msno.bar(df_store, figsize=(10, 6), color=('black'))\n",
        "\n",
        "# set the plot title\n",
        "plt.title(\"Missing Data\")\n",
        "\n",
        "# show the plot\n",
        "plt.show()"
      ],
      "metadata": {
        "id": "cwEBCCic35TJ"
      },
      "execution_count": null,
      "outputs": []
    },
    {
      "cell_type": "markdown",
      "source": [
        "**Inference**\n",
        "\n",
        "\n",
        "From the above bar garph shows the missing values of each column from given set of data"
      ],
      "metadata": {
        "id": "q46o9T5Y9bup"
      }
    },
    {
      "cell_type": "markdown",
      "source": [
        "### What did you know about your dataset?"
      ],
      "metadata": {
        "id": "H0kj-8xxnORC"
      }
    },
    {
      "cell_type": "markdown",
      "source": [
        "\n",
        "Dataset contains the Raw data of play store app review we need clean and understand the data to analyze common technique used to explore and understand the characteristics of a dataset Exploratory data analysis (EDA). EDA involves visualizing and summarizing the data, identifying patterns and relationships, and detecting anomalies and outliers. this technique help to gain insights into the data, generate hypotheses, and formulate research questions.the data to get desired output\n",
        "\n",
        "\n",
        "1. There are 13 columns of properties with 10841 rows of data.\n",
        "2. There are 1487 missing values and 483 duplicate apps in the given dataset.\n",
        "\n",
        "3. Column 'Reviews', 'Size', 'Installs' and 'Price' are in the type of 'object' .\n",
        "\n",
        "4. Values of column 'Size' are strings representing size in 'M' as Megabytes, 'k' as kilobytes and also 'Varies with devices'.\n",
        "\n",
        "5. Values of column 'Installs' are strings representing install amount with symbols such as ',' and '+'.\n",
        "\n",
        "6. Values of column 'Price' are strings representing price with symbol '$'."
      ],
      "metadata": {
        "id": "gfoNAAC-nUe_"
      }
    },
    {
      "cell_type": "code",
      "source": [
        "# removing null values in Rating column\n",
        "df_store.dropna(subset=[\"Rating\"],axis=0,inplace=True)\n",
        "\n",
        "print(df_store.shape)\n"
      ],
      "metadata": {
        "id": "j7xfkqrt5Ag5"
      },
      "execution_count": null,
      "outputs": []
    },
    {
      "cell_type": "code",
      "source": [
        "# drop duplicate apps\n",
        "df_store.drop_duplicates(subset='App', inplace=True)"
      ],
      "metadata": {
        "id": "PfF6xgO9C0Uq"
      },
      "execution_count": null,
      "outputs": []
    },
    {
      "cell_type": "code",
      "source": [
        "#the missing values for android, current and content rarting columns is less (<0.05) we are using mode to replace the value 0\n",
        "df_store['Current ver'] = df_store['Current Ver'].fillna(df_store['Content Rating'].mode()[0])\n",
        "df_store['Android Ver'] = df_store['Android Ver'].fillna(df_store['Android Ver'].mode()[0])\n",
        "df_store['Content Rating'] = df_store['Content Rating'].fillna(df_store['Content Rating'].mode()[0])"
      ],
      "metadata": {
        "id": "N-00-FMxaKSn"
      },
      "execution_count": null,
      "outputs": []
    },
    {
      "cell_type": "markdown",
      "source": [
        "## ***2. Understanding Your Variables***"
      ],
      "metadata": {
        "id": "n_5k1r8AFA03"
      }
    },
    {
      "cell_type": "markdown",
      "source": [
        "### Variables Description "
      ],
      "metadata": {
        "id": "PBTbrJXOngz2"
      }
    },
    {
      "cell_type": "markdown",
      "source": [
        "###**The Following Are The variables Of Play Store Data Are Explained Below**###\n",
        "\n",
        "App: It contains the name of the app with a short description.\n",
        "\n",
        "Category: This section gives the category to which an app belongs. In this dataset, the apps are divided among 33 categories.\n",
        "\n",
        "Size: The disk space required to install the respective app.\n",
        "\n",
        "Rating: The average rating given by the users for the respective app. It can be in between 1 and 5.\n",
        "\n",
        "Reviews: The number of users that have dropped a review for the respective app.\n",
        "\n",
        "Installs: The approximate number of times the respective app was installed.\n",
        "\n",
        "Type: It states whether an app is free to use or paid.\n",
        "\n",
        "Price: It gives the price payable to install the app. For free type apps, the price is zero.\n",
        "\n",
        "Content rating: It states which age group is suitable to consume the content of the respective app.\n",
        "\n",
        "Genres: It gives the genre(s) to which the respective app belongs.\n",
        "\n",
        "Last updated: It gives the day in which the latest update for the respective app was released.\n",
        "\n",
        "Current Ver: It gives the current version of the respective app.\n",
        "\n",
        "Android Ver: It gives the android version of the respective app."
      ],
      "metadata": {
        "id": "89ynDML2DTCv"
      }
    },
    {
      "cell_type": "code",
      "source": [
        "# Dataset Column\n",
        "print(list(df_store.columns))\n"
      ],
      "metadata": {
        "id": "jtgJD3qiC9aY"
      },
      "execution_count": null,
      "outputs": []
    },
    {
      "cell_type": "code",
      "source": [
        "# Dataset Describe\n",
        "df_store.describe(include = 'all').T"
      ],
      "metadata": {
        "id": "HceJ95JQDCuJ"
      },
      "execution_count": null,
      "outputs": []
    },
    {
      "cell_type": "markdown",
      "source": [
        "Answer Here"
      ],
      "metadata": {
        "id": "aJV4KIxSnxay"
      }
    },
    {
      "cell_type": "markdown",
      "source": [
        "### Check Unique Values for each variable."
      ],
      "metadata": {
        "id": "u3PMJOP6ngxN"
      }
    },
    {
      "cell_type": "code",
      "source": [
        "# Check Unique Values for each variable.\n",
        "# Check unique number of apps in 'App' column  \n",
        "print(df_store['App'].unique())\n",
        "print(len(df_store['App'].unique()))\n"
      ],
      "metadata": {
        "id": "zms12Yq5n-jE"
      },
      "execution_count": null,
      "outputs": []
    },
    {
      "cell_type": "code",
      "source": [
        "# Check unique number of category in 'Category' column\n",
        "print(df_store['Category'].unique())"
      ],
      "metadata": {
        "id": "SbA1e_xEF6HX"
      },
      "execution_count": null,
      "outputs": []
    },
    {
      "cell_type": "code",
      "source": [
        "# here,there is a category with name '1.9' that could be an error in data entry\n",
        "df_store.drop(df_store[(df_store['Category'] == '1.9')].index, inplace=True)\n",
        "\n",
        "len(df_store['Category'].unique())\n",
        "\n"
      ],
      "metadata": {
        "id": "DJGjPk3sPyHe"
      },
      "execution_count": null,
      "outputs": []
    },
    {
      "cell_type": "code",
      "source": [
        "# Check unique number of ratings in 'Rating' column\n",
        "print(df_store['Rating'].unique())"
      ],
      "metadata": {
        "id": "prgVdf9BQfGc"
      },
      "execution_count": null,
      "outputs": []
    },
    {
      "cell_type": "code",
      "source": [
        "# Check unique number of reviews in 'Reviews' column -\n",
        "df_store['Reviews'].unique()"
      ],
      "metadata": {
        "id": "BRZtoD6_Qw61"
      },
      "execution_count": null,
      "outputs": []
    },
    {
      "cell_type": "code",
      "source": [
        "#as dtype of reviews column is in object so we have to change in int\n",
        "df_store['Reviews'] = df_store['Reviews'].astype(int)\n"
      ],
      "metadata": {
        "id": "1W8zK503RGD9"
      },
      "execution_count": null,
      "outputs": []
    },
    {
      "cell_type": "code",
      "source": [
        "# Check unique number of size in 'Size' column -\n",
        "print(df_store['Size'].unique())"
      ],
      "metadata": {
        "id": "TnfBzjlzRaUA"
      },
      "execution_count": null,
      "outputs": []
    },
    {
      "cell_type": "code",
      "source": [
        "### 'Size' column - convert Mbs to kbs\n",
        "df_store['Size'] = df_store.Size.replace(\"Varies with device\",np.nan)\n",
        "df_store['Size'] = df_store.Size.str.replace(\"M\",\"000\") \n",
        "df_store['Size'] = df_store.Size.str.replace(\"k\",\"\")\n",
        "df_store['Size'] = df_store.Size.replace(\"1,000+\",1000)\n",
        "#change data type of size\n",
        "df_store['Size'] = df_store['Size'].astype(float)\n",
        "df_store['Size'].dtype\n"
      ],
      "metadata": {
        "id": "elD3iZLRSfi6"
      },
      "execution_count": null,
      "outputs": []
    },
    {
      "cell_type": "code",
      "source": [
        "# size varies with device is replacing with NaN \n",
        "df_store['Size'].replace('Varies with device', 'NaN', inplace = True)"
      ],
      "metadata": {
        "id": "k948m-0xcFnh"
      },
      "execution_count": null,
      "outputs": []
    },
    {
      "cell_type": "code",
      "source": [
        "# Check unique number of install in 'Install' column -\n",
        "df_store['Installs'].unique()"
      ],
      "metadata": {
        "id": "OQyKwVDCdDlp"
      },
      "execution_count": null,
      "outputs": []
    },
    {
      "cell_type": "code",
      "source": [
        "# as install column contain values with ',' and '+' , so we have to replace it with empty string and convert it into int\n",
        "df_store['Installs'] = df_store['Installs'].apply(lambda x: x.replace(',',''))\n",
        "df_store['Installs'] = df_store['Installs'].apply(lambda x: x.replace('+',''))\n",
        "df_store['Installs'] = df_store['Installs'].astype(dtype = 'int')"
      ],
      "metadata": {
        "id": "CVfPJRXedKcS"
      },
      "execution_count": null,
      "outputs": []
    },
    {
      "cell_type": "code",
      "source": [
        "# Check unique number of types in 'Type' column -\n",
        "df_store['Type'].unique()"
      ],
      "metadata": {
        "id": "cbu80BjfeIs0"
      },
      "execution_count": null,
      "outputs": []
    },
    {
      "cell_type": "code",
      "source": [
        "# Check unique price in 'price' column\n",
        "df_store['Price'].unique()"
      ],
      "metadata": {
        "id": "mozwIE7ieVFw"
      },
      "execution_count": null,
      "outputs": []
    },
    {
      "cell_type": "code",
      "source": [
        "# we need remove '$' the special char from the Price column\n",
        "df_store['Price'] = df_store['Price'].apply(lambda x : x.replace('$', ''))\n",
        "df_store['Price'] = df_store['Price'].apply(lambda x : float(x))\n"
      ],
      "metadata": {
        "id": "W4dvdHCoe4oB"
      },
      "execution_count": null,
      "outputs": []
    },
    {
      "cell_type": "code",
      "source": [
        "# Check unique number of content ratings in 'Content Rating' column -\n",
        "df_store['Content Rating'].unique()"
      ],
      "metadata": {
        "id": "ZQ0IVPMPghHb"
      },
      "execution_count": null,
      "outputs": []
    },
    {
      "cell_type": "code",
      "source": [
        "# Check unique number of Geners from 'geners' column\n",
        "df_store['Genres'].unique()"
      ],
      "metadata": {
        "id": "CF0ieoM5goXi"
      },
      "execution_count": null,
      "outputs": []
    },
    {
      "cell_type": "code",
      "source": [
        "# Check unique number of updates in 'Last Updated' column -\n",
        "df_store['Last Updated'].unique()\n",
        "#Changing the datatype of the Last Updated column from string to datetime.\n",
        "df_store[\"Last Updated\"] = pd.to_datetime(df_store['Last Updated'])"
      ],
      "metadata": {
        "id": "3y77Rylci4Ou"
      },
      "execution_count": null,
      "outputs": []
    },
    {
      "cell_type": "code",
      "source": [
        "# Check unique number of versions in 'Current Ver' column -\n",
        "df_store['Current Ver'].unique()"
      ],
      "metadata": {
        "id": "frkHbmzniv4B"
      },
      "execution_count": null,
      "outputs": []
    },
    {
      "cell_type": "code",
      "source": [
        "# Check unique number of Android Version in 'Android Ver' column -\n",
        "df_store['Android Ver'].unique()"
      ],
      "metadata": {
        "id": "AfI0qRXripLh"
      },
      "execution_count": null,
      "outputs": []
    },
    {
      "cell_type": "code",
      "source": [
        "# Deleting the rows containing NaN values in user_review\n",
        "df_review = df_review.dropna()\n",
        "df_review.shape"
      ],
      "metadata": {
        "id": "nOV9XheAiYMf"
      },
      "execution_count": null,
      "outputs": []
    },
    {
      "cell_type": "markdown",
      "source": [
        "**Inference**\n",
        "\n",
        "data has been cleaned with removing the duplicate values, NaN,converted Mbs to kbs ,datatype has corrected "
      ],
      "metadata": {
        "id": "shd0Bdy1jL2K"
      }
    },
    {
      "cell_type": "markdown",
      "source": [
        "## 3. ***Data Wrangling***"
      ],
      "metadata": {
        "id": "dauF4eBmngu3"
      }
    },
    {
      "cell_type": "markdown",
      "source": [
        "### Data Wrangling Code"
      ],
      "metadata": {
        "id": "bKJF3rekwFvQ"
      }
    },
    {
      "cell_type": "code",
      "source": [
        "# Get unique categories\n",
        "categories = df_store['Category'].unique()\n",
        "\n",
        "# Calculate average installs for each category\n",
        "category_installs = []\n",
        "for category in categories:\n",
        "    filtered_df = df_store[df_store['Category'] == category]\n",
        "    installs = filtered_df['Installs']\n",
        "    if len(installs) == 0:\n",
        "        category_installs.append(0)\n",
        "    else:\n",
        "        category_installs.append(sum(installs) / len(installs))\n",
        "\n",
        "# Create dataframe and sort by installs\n",
        "data_category_install = pd.DataFrame({'category': categories, 'install': category_installs})\n",
        "sorted_data = data_category_install.sort_values('install', ascending=False)"
      ],
      "metadata": {
        "id": "_1muq4p65bOK"
      },
      "execution_count": null,
      "outputs": []
    },
    {
      "cell_type": "code",
      "source": [
        "# Get unique sizes\n",
        "sizes = df_store['Size'].unique()\n",
        "\n",
        "# Calculate average rating for each size\n",
        "size_rating = []\n",
        "for size in sizes:\n",
        "    df = df_store[df_store['Size'] == size]\n",
        "    rating = df['Rating']\n",
        "    avg_rating = sum(rating) / len(rating) if len(rating) > 0 else 0\n",
        "    size_rating.append(avg_rating)\n",
        "\n",
        "# Create dataframe and sort by size\n",
        "data_size_rating = pd.DataFrame({'Size': sizes, 'Rating': size_rating})\n",
        "sorted_data = data_size_rating.sort_values('Size', ascending=False)"
      ],
      "metadata": {
        "id": "WBpNOudRoPvW"
      },
      "execution_count": null,
      "outputs": []
    },
    {
      "cell_type": "markdown",
      "source": [
        "### What all manipulations have you done and insights you found?\n",
        "\n",
        "we are sorting the values for required column to analysis the data "
      ],
      "metadata": {
        "id": "MSa1f5Uengrz"
      }
    },
    {
      "cell_type": "markdown",
      "source": [
        "Answer Here."
      ],
      "metadata": {
        "id": "LbyXE7I1olp8"
      }
    },
    {
      "cell_type": "markdown",
      "source": [
        "## ***4. Data Vizualization, Storytelling & Experimenting with charts : Understand the relationships between variables***"
      ],
      "metadata": {
        "id": "GF8Ens_Soomf"
      }
    },
    {
      "cell_type": "markdown",
      "source": [
        "#### Chart - 1"
      ],
      "metadata": {
        "id": "0wOQAZs5pc--"
      }
    },
    {
      "cell_type": "code",
      "source": [
        "# Chart - 1 visualization code\n",
        "# Write your code to make your dataset analysis ready.\n",
        "\n",
        "#problem 1:Find the correlaction of the data set?\n",
        "\n",
        "df_store.corr()"
      ],
      "metadata": {
        "id": "7v_ESjsspbW7"
      },
      "execution_count": null,
      "outputs": []
    },
    {
      "cell_type": "code",
      "source": [
        "#correlation map\n",
        "# data visualization\n",
        "plt.figure(figsize=(15,10))\n",
        "sns.set_theme(style=\"white\")\n",
        "sns.heatmap(df_store.corr(), annot=True, cmap=\"Blues\", fmt='.1g')\n",
        "plt.show()\n"
      ],
      "metadata": {
        "id": "GX9G31BVuhYT"
      },
      "execution_count": null,
      "outputs": []
    },
    {
      "cell_type": "markdown",
      "source": [
        "##### 1. Why did you pick the specific chart?\n"
      ],
      "metadata": {
        "id": "K5QZ13OEpz2H"
      }
    },
    {
      "cell_type": "markdown",
      "source": [
        "Answer Here.\n",
        "To visualise the correlations between all variables, not just the target variable, you can create a correlation matrix. This is essentially the same as the dataframe above, but with a row for each variable, and a neat colour coding scheme that allows you to see which values are most positively or negatively correlated based on the depth of their colour. Pale cells denote values with a negative correlation, while dark cells denote a stronger positive correlation. The fmt='.1g' argument reduces the number of decimal points, where it’s feasible to do so, to aid readability."
      ],
      "metadata": {
        "id": "XESiWehPqBRc"
      }
    },
    {
      "cell_type": "markdown",
      "source": [
        "#### Chart - 2"
      ],
      "metadata": {
        "id": "EM7whBJCYoAo"
      }
    },
    {
      "cell_type": "code",
      "source": [
        "# visualization\n",
        "plt.figure(figsize=(15,10))\n",
        "sns.set_theme(style=\"darkgrid\")\n",
        "sns.barplot(x=sorted_data['category'], y=sorted_data['install'])\n",
        "plt.xticks(rotation=80)\n",
        "plt.xlabel(\"Category\")\n",
        "plt.ylabel(\"Install\")\n",
        "plt.title(\"Category and Install\")\n",
        "plt.show()\n",
        "\n"
      ],
      "metadata": {
        "id": "Ats9DA0Y4hn8"
      },
      "execution_count": null,
      "outputs": []
    },
    {
      "cell_type": "markdown",
      "source": [
        "##### 1. Why did you pick the specific chart?"
      ],
      "metadata": {
        "id": "fge-S5ZAYoAp"
      }
    },
    {
      "cell_type": "markdown",
      "source": [
        "Answer Here.\n",
        "\n",
        "\n",
        " bar chart for fast data exploration and comparison of variable values between different groups, or building a story around how groups of data are composed. Often, at EdgeTier, we tend to end up with an abundance of bar charts in both exploratory data analysis work as well as in dashboard visualisations."
      ],
      "metadata": {
        "id": "5dBItgRVYoAp"
      }
    },
    {
      "cell_type": "markdown",
      "source": [
        "##### 2. What is/are the insight(s) found from the chart?"
      ],
      "metadata": {
        "id": "85gYPyotYoAp"
      }
    },
    {
      "cell_type": "markdown",
      "source": [
        "Answer Here\n",
        "\n",
        "we used the barplot because we are comparing the two items in x and y axis to know which category has highest installs this chart is used to compare the data the insights we find that the communication and followed by social category \n",
        " \n"
      ],
      "metadata": {
        "id": "4jstXR6OYoAp"
      }
    },
    {
      "cell_type": "markdown",
      "source": [
        "##### 3. Will the gained insights help creating a positive business impact? \n",
        "Are there any insights that lead to negative growth? Justify with specific reason."
      ],
      "metadata": {
        "id": "RoGjAbkUYoAp"
      }
    },
    {
      "cell_type": "markdown",
      "source": [
        "Answer Here\n",
        "\n",
        "yes it will create a postive impact on business and with this analysis the can be focusing on updating with new features "
      ],
      "metadata": {
        "id": "zfJ8IqMcYoAp"
      }
    },
    {
      "cell_type": "markdown",
      "source": [
        "#### Chart - 3"
      ],
      "metadata": {
        "id": "4Of9eVA-YrdM"
      }
    },
    {
      "cell_type": "code",
      "source": [
        "# visualization\n",
        "plt.figure(figsize=(20,5))\n",
        "sns.set_theme(style=\"darkgrid\")\n",
        "sns.kdeplot(x=sorted_data['Size'],y=sorted_data['Rating'],fill=True, color='g')\n",
        "plt.xticks(rotation=80)\n",
        "plt.xlabel(\"Rating\")\n",
        "plt.ylabel(\"Size\")\n",
        "plt.title(\"Size vs Rating\")\n",
        "plt.show()"
      ],
      "metadata": {
        "id": "T1oGtbO7z36w"
      },
      "execution_count": null,
      "outputs": []
    },
    {
      "cell_type": "code",
      "source": [],
      "metadata": {
        "id": "q0nTZmHL48Y2"
      },
      "execution_count": null,
      "outputs": []
    },
    {
      "cell_type": "markdown",
      "source": [
        "##### 1. Why did you pick the specific chart?"
      ],
      "metadata": {
        "id": "iky9q4vBYrdO"
      }
    },
    {
      "cell_type": "markdown",
      "source": [
        "Answer Here.\n",
        "\n",
        "kdeplot is a good choice for visualizing large datasets in Seaborn. It is a type of density plot that estimates the probability density function of a continuous variable. KDE plots are useful for visualizing the distribution of a single variable, as well as comparing the distributions of multiple variables.\n",
        "\n",
        "Here's an example of how you can use kdeplot to visualize the distribution of a variable in a large dataset:"
      ],
      "metadata": {
        "id": "aJRCwT6DYrdO"
      }
    },
    {
      "cell_type": "markdown",
      "source": [
        "##### 2. What is/are the insight(s) found from the chart?"
      ],
      "metadata": {
        "id": "F6T5p64dYrdO"
      }
    },
    {
      "cell_type": "markdown",
      "source": [
        "Answer Here\n",
        "\n",
        "There seems to be a positive correlation between the size of the product and the average rating. Generally, larger products tend to have higher ratings compared to smaller products.\n",
        "The largest product size has the highest average rating, but this could be due to the fact that there are fewer products in this size category compared to the smaller size categories."
      ],
      "metadata": {
        "id": "Xx8WAJvtYrdO"
      }
    },
    {
      "cell_type": "markdown",
      "source": [
        "##### 3. Will the gained insights help creating a positive business impact? \n",
        "Are there any insights that lead to negative growth? Justify with specific reason."
      ],
      "metadata": {
        "id": "y-Ehk30pYrdP"
      }
    },
    {
      "cell_type": "markdown",
      "source": [
        "Answer Here\n",
        "\n",
        "The insights gained from analyzing the average rating by size can certainly help create a positive business impact. For example, the data can help the business understand which sizes are most popular and which sizes may need improvement.\n",
        "\n",
        "However, there may be insights that lead to negative growth. For example, if the data shows that certain sizes consistently receive low ratings, this could indicate a problem with the quality or fit of those sizes.\n",
        "\n",
        "\n",
        "\n",
        "Stop generating"
      ],
      "metadata": {
        "id": "jLNxxz7MYrdP"
      }
    },
    {
      "cell_type": "markdown",
      "source": [
        "#### Chart - 4"
      ],
      "metadata": {
        "id": "bamQiAODYuh1"
      }
    },
    {
      "cell_type": "code",
      "source": [
        "# Chart - 5 visualization code"
      ],
      "metadata": {
        "id": "TIJwrbroYuh3"
      },
      "execution_count": null,
      "outputs": []
    },
    {
      "cell_type": "markdown",
      "source": [
        "##### 1. Why did you pick the specific chart?"
      ],
      "metadata": {
        "id": "QHF8YVU7Yuh3"
      }
    },
    {
      "cell_type": "markdown",
      "source": [
        "Answer Here."
      ],
      "metadata": {
        "id": "dcxuIMRPYuh3"
      }
    },
    {
      "cell_type": "markdown",
      "source": [
        "##### 2. What is/are the insight(s) found from the chart?"
      ],
      "metadata": {
        "id": "GwzvFGzlYuh3"
      }
    },
    {
      "cell_type": "markdown",
      "source": [
        "Answer Here"
      ],
      "metadata": {
        "id": "uyqkiB8YYuh3"
      }
    },
    {
      "cell_type": "markdown",
      "source": [
        "##### 3. Will the gained insights help creating a positive business impact? \n",
        "Are there any insights that lead to negative growth? Justify with specific reason."
      ],
      "metadata": {
        "id": "qYpmQ266Yuh3"
      }
    },
    {
      "cell_type": "markdown",
      "source": [
        "Answer Here"
      ],
      "metadata": {
        "id": "_WtzZ_hCYuh4"
      }
    },
    {
      "cell_type": "markdown",
      "source": [
        "#### Chart - 6"
      ],
      "metadata": {
        "id": "OH-pJp9IphqM"
      }
    },
    {
      "cell_type": "code",
      "source": [
        "# Chart - 6 visualization code"
      ],
      "metadata": {
        "id": "kuRf4wtuphqN"
      },
      "execution_count": null,
      "outputs": []
    },
    {
      "cell_type": "markdown",
      "source": [
        "##### 1. Why did you pick the specific chart?"
      ],
      "metadata": {
        "id": "bbFf2-_FphqN"
      }
    },
    {
      "cell_type": "markdown",
      "source": [
        "Answer Here."
      ],
      "metadata": {
        "id": "loh7H2nzphqN"
      }
    },
    {
      "cell_type": "markdown",
      "source": [
        "##### 2. What is/are the insight(s) found from the chart?"
      ],
      "metadata": {
        "id": "_ouA3fa0phqN"
      }
    },
    {
      "cell_type": "markdown",
      "source": [
        "Answer Here"
      ],
      "metadata": {
        "id": "VECbqPI7phqN"
      }
    },
    {
      "cell_type": "markdown",
      "source": [
        "##### 3. Will the gained insights help creating a positive business impact? \n",
        "Are there any insights that lead to negative growth? Justify with specific reason."
      ],
      "metadata": {
        "id": "Seke61FWphqN"
      }
    },
    {
      "cell_type": "markdown",
      "source": [
        "Answer Here"
      ],
      "metadata": {
        "id": "DW4_bGpfphqN"
      }
    },
    {
      "cell_type": "markdown",
      "source": [
        "#### Chart - 7"
      ],
      "metadata": {
        "id": "PIIx-8_IphqN"
      }
    },
    {
      "cell_type": "code",
      "source": [
        "# Chart - 7 visualization code"
      ],
      "metadata": {
        "id": "lqAIGUfyphqO"
      },
      "execution_count": null,
      "outputs": []
    },
    {
      "cell_type": "markdown",
      "source": [
        "##### 1. Why did you pick the specific chart?"
      ],
      "metadata": {
        "id": "t27r6nlMphqO"
      }
    },
    {
      "cell_type": "markdown",
      "source": [
        "Answer Here."
      ],
      "metadata": {
        "id": "iv6ro40sphqO"
      }
    },
    {
      "cell_type": "markdown",
      "source": [
        "##### 2. What is/are the insight(s) found from the chart?"
      ],
      "metadata": {
        "id": "r2jJGEOYphqO"
      }
    },
    {
      "cell_type": "markdown",
      "source": [
        "Answer Here"
      ],
      "metadata": {
        "id": "Po6ZPi4hphqO"
      }
    },
    {
      "cell_type": "markdown",
      "source": [
        "##### 3. Will the gained insights help creating a positive business impact? \n",
        "Are there any insights that lead to negative growth? Justify with specific reason."
      ],
      "metadata": {
        "id": "b0JNsNcRphqO"
      }
    },
    {
      "cell_type": "markdown",
      "source": [
        "Answer Here"
      ],
      "metadata": {
        "id": "xvSq8iUTphqO"
      }
    },
    {
      "cell_type": "markdown",
      "source": [
        "#### Chart - 8"
      ],
      "metadata": {
        "id": "BZR9WyysphqO"
      }
    },
    {
      "cell_type": "code",
      "source": [
        "# Chart - 8 visualization code"
      ],
      "metadata": {
        "id": "TdPTWpAVphqO"
      },
      "execution_count": null,
      "outputs": []
    },
    {
      "cell_type": "markdown",
      "source": [
        "##### 1. Why did you pick the specific chart?"
      ],
      "metadata": {
        "id": "jj7wYXLtphqO"
      }
    },
    {
      "cell_type": "markdown",
      "source": [
        "Answer Here."
      ],
      "metadata": {
        "id": "Ob8u6rCTphqO"
      }
    },
    {
      "cell_type": "markdown",
      "source": [
        "##### 2. What is/are the insight(s) found from the chart?"
      ],
      "metadata": {
        "id": "eZrbJ2SmphqO"
      }
    },
    {
      "cell_type": "markdown",
      "source": [
        "Answer Here"
      ],
      "metadata": {
        "id": "mZtgC_hjphqO"
      }
    },
    {
      "cell_type": "markdown",
      "source": [
        "##### 3. Will the gained insights help creating a positive business impact? \n",
        "Are there any insights that lead to negative growth? Justify with specific reason."
      ],
      "metadata": {
        "id": "rFu4xreNphqO"
      }
    },
    {
      "cell_type": "markdown",
      "source": [
        "Answer Here"
      ],
      "metadata": {
        "id": "ey_0qi68phqO"
      }
    },
    {
      "cell_type": "markdown",
      "source": [
        "#### Chart - 9"
      ],
      "metadata": {
        "id": "YJ55k-q6phqO"
      }
    },
    {
      "cell_type": "code",
      "source": [
        "# Chart - 9 visualization code"
      ],
      "metadata": {
        "id": "B2aS4O1ophqO"
      },
      "execution_count": null,
      "outputs": []
    },
    {
      "cell_type": "markdown",
      "source": [
        "##### 1. Why did you pick the specific chart?"
      ],
      "metadata": {
        "id": "gCFgpxoyphqP"
      }
    },
    {
      "cell_type": "markdown",
      "source": [
        "Answer Here."
      ],
      "metadata": {
        "id": "TVxDimi2phqP"
      }
    },
    {
      "cell_type": "markdown",
      "source": [
        "##### 2. What is/are the insight(s) found from the chart?"
      ],
      "metadata": {
        "id": "OVtJsKN_phqQ"
      }
    },
    {
      "cell_type": "markdown",
      "source": [
        "Answer Here"
      ],
      "metadata": {
        "id": "ngGi97qjphqQ"
      }
    },
    {
      "cell_type": "markdown",
      "source": [
        "##### 3. Will the gained insights help creating a positive business impact? \n",
        "Are there any insights that lead to negative growth? Justify with specific reason."
      ],
      "metadata": {
        "id": "lssrdh5qphqQ"
      }
    },
    {
      "cell_type": "markdown",
      "source": [
        "Answer Here"
      ],
      "metadata": {
        "id": "tBpY5ekJphqQ"
      }
    },
    {
      "cell_type": "markdown",
      "source": [
        "#### Chart - 10"
      ],
      "metadata": {
        "id": "U2RJ9gkRphqQ"
      }
    },
    {
      "cell_type": "code",
      "source": [
        "# Chart - 10 visualization code"
      ],
      "metadata": {
        "id": "GM7a4YP4phqQ"
      },
      "execution_count": null,
      "outputs": []
    },
    {
      "cell_type": "markdown",
      "source": [
        "##### 1. Why did you pick the specific chart?"
      ],
      "metadata": {
        "id": "1M8mcRywphqQ"
      }
    },
    {
      "cell_type": "markdown",
      "source": [
        "Answer Here."
      ],
      "metadata": {
        "id": "8agQvks0phqQ"
      }
    },
    {
      "cell_type": "markdown",
      "source": [
        "##### 2. What is/are the insight(s) found from the chart?"
      ],
      "metadata": {
        "id": "tgIPom80phqQ"
      }
    },
    {
      "cell_type": "markdown",
      "source": [
        "Answer Here"
      ],
      "metadata": {
        "id": "Qp13pnNzphqQ"
      }
    },
    {
      "cell_type": "markdown",
      "source": [
        "##### 3. Will the gained insights help creating a positive business impact? \n",
        "Are there any insights that lead to negative growth? Justify with specific reason."
      ],
      "metadata": {
        "id": "JMzcOPDDphqR"
      }
    },
    {
      "cell_type": "markdown",
      "source": [
        "Answer Here"
      ],
      "metadata": {
        "id": "R4Ka1PC2phqR"
      }
    },
    {
      "cell_type": "markdown",
      "source": [
        "#### Chart - 11"
      ],
      "metadata": {
        "id": "x-EpHcCOp1ci"
      }
    },
    {
      "cell_type": "code",
      "source": [
        "# Chart - 11 visualization code"
      ],
      "metadata": {
        "id": "mAQTIvtqp1cj"
      },
      "execution_count": null,
      "outputs": []
    },
    {
      "cell_type": "markdown",
      "source": [
        "##### 1. Why did you pick the specific chart?"
      ],
      "metadata": {
        "id": "X_VqEhTip1ck"
      }
    },
    {
      "cell_type": "markdown",
      "source": [
        "Answer Here."
      ],
      "metadata": {
        "id": "-vsMzt_np1ck"
      }
    },
    {
      "cell_type": "markdown",
      "source": [
        "##### 2. What is/are the insight(s) found from the chart?"
      ],
      "metadata": {
        "id": "8zGJKyg5p1ck"
      }
    },
    {
      "cell_type": "markdown",
      "source": [
        "Answer Here"
      ],
      "metadata": {
        "id": "ZYdMsrqVp1ck"
      }
    },
    {
      "cell_type": "markdown",
      "source": [
        "##### 3. Will the gained insights help creating a positive business impact? \n",
        "Are there any insights that lead to negative growth? Justify with specific reason."
      ],
      "metadata": {
        "id": "PVzmfK_Ep1ck"
      }
    },
    {
      "cell_type": "markdown",
      "source": [
        "Answer Here"
      ],
      "metadata": {
        "id": "druuKYZpp1ck"
      }
    },
    {
      "cell_type": "markdown",
      "source": [
        "#### Chart - 12"
      ],
      "metadata": {
        "id": "n3dbpmDWp1ck"
      }
    },
    {
      "cell_type": "code",
      "source": [
        "# Chart - 12 visualization code"
      ],
      "metadata": {
        "id": "bwevp1tKp1ck"
      },
      "execution_count": null,
      "outputs": []
    },
    {
      "cell_type": "markdown",
      "source": [
        "##### 1. Why did you pick the specific chart?"
      ],
      "metadata": {
        "id": "ylSl6qgtp1ck"
      }
    },
    {
      "cell_type": "markdown",
      "source": [
        "Answer Here."
      ],
      "metadata": {
        "id": "m2xqNkiQp1ck"
      }
    },
    {
      "cell_type": "markdown",
      "source": [
        "##### 2. What is/are the insight(s) found from the chart?"
      ],
      "metadata": {
        "id": "ZWILFDl5p1ck"
      }
    },
    {
      "cell_type": "markdown",
      "source": [
        "Answer Here"
      ],
      "metadata": {
        "id": "x-lUsV2mp1ck"
      }
    },
    {
      "cell_type": "markdown",
      "source": [
        "##### 3. Will the gained insights help creating a positive business impact? \n",
        "Are there any insights that lead to negative growth? Justify with specific reason."
      ],
      "metadata": {
        "id": "M7G43BXep1ck"
      }
    },
    {
      "cell_type": "markdown",
      "source": [
        "Answer Here"
      ],
      "metadata": {
        "id": "5wwDJXsLp1cl"
      }
    },
    {
      "cell_type": "markdown",
      "source": [
        "#### Chart - 13"
      ],
      "metadata": {
        "id": "Ag9LCva-p1cl"
      }
    },
    {
      "cell_type": "code",
      "source": [
        "# Chart - 13 visualization code"
      ],
      "metadata": {
        "id": "EUfxeq9-p1cl"
      },
      "execution_count": null,
      "outputs": []
    },
    {
      "cell_type": "markdown",
      "source": [
        "##### 1. Why did you pick the specific chart?"
      ],
      "metadata": {
        "id": "E6MkPsBcp1cl"
      }
    },
    {
      "cell_type": "markdown",
      "source": [
        "Answer Here."
      ],
      "metadata": {
        "id": "V22bRsFWp1cl"
      }
    },
    {
      "cell_type": "markdown",
      "source": [
        "##### 2. What is/are the insight(s) found from the chart?"
      ],
      "metadata": {
        "id": "2cELzS2fp1cl"
      }
    },
    {
      "cell_type": "markdown",
      "source": [
        "Answer Here"
      ],
      "metadata": {
        "id": "ozQPc2_Ip1cl"
      }
    },
    {
      "cell_type": "markdown",
      "source": [
        "##### 3. Will the gained insights help creating a positive business impact? \n",
        "Are there any insights that lead to negative growth? Justify with specific reason."
      ],
      "metadata": {
        "id": "3MPXvC8up1cl"
      }
    },
    {
      "cell_type": "markdown",
      "source": [
        "Answer Here"
      ],
      "metadata": {
        "id": "GL8l1tdLp1cl"
      }
    },
    {
      "cell_type": "markdown",
      "source": [
        "#### Chart - 14 - Correlation Heatmap"
      ],
      "metadata": {
        "id": "NC_X3p0fY2L0"
      }
    },
    {
      "cell_type": "code",
      "source": [
        "# Correlation Heatmap visualization code"
      ],
      "metadata": {
        "id": "xyC9zolEZNRQ"
      },
      "execution_count": null,
      "outputs": []
    },
    {
      "cell_type": "markdown",
      "source": [
        "##### 1. Why did you pick the specific chart?"
      ],
      "metadata": {
        "id": "UV0SzAkaZNRQ"
      }
    },
    {
      "cell_type": "markdown",
      "source": [
        "Answer Here."
      ],
      "metadata": {
        "id": "DVPuT8LYZNRQ"
      }
    },
    {
      "cell_type": "markdown",
      "source": [
        "##### 2. What is/are the insight(s) found from the chart?"
      ],
      "metadata": {
        "id": "YPEH6qLeZNRQ"
      }
    },
    {
      "cell_type": "markdown",
      "source": [
        "Answer Here"
      ],
      "metadata": {
        "id": "bfSqtnDqZNRR"
      }
    },
    {
      "cell_type": "markdown",
      "source": [
        "#### Chart - 15 - Pair Plot "
      ],
      "metadata": {
        "id": "q29F0dvdveiT"
      }
    },
    {
      "cell_type": "code",
      "source": [
        "# Pair Plot visualization code"
      ],
      "metadata": {
        "id": "o58-TEIhveiU"
      },
      "execution_count": null,
      "outputs": []
    },
    {
      "cell_type": "markdown",
      "source": [
        "##### 1. Why did you pick the specific chart?"
      ],
      "metadata": {
        "id": "EXh0U9oCveiU"
      }
    },
    {
      "cell_type": "markdown",
      "source": [
        "Answer Here."
      ],
      "metadata": {
        "id": "eMmPjTByveiU"
      }
    },
    {
      "cell_type": "markdown",
      "source": [
        "##### 2. What is/are the insight(s) found from the chart?"
      ],
      "metadata": {
        "id": "22aHeOlLveiV"
      }
    },
    {
      "cell_type": "markdown",
      "source": [
        "Answer Here"
      ],
      "metadata": {
        "id": "uPQ8RGwHveiV"
      }
    },
    {
      "cell_type": "markdown",
      "source": [
        "## **5. Solution to Business Objective**"
      ],
      "metadata": {
        "id": "JcMwzZxoAimU"
      }
    },
    {
      "cell_type": "markdown",
      "source": [
        "#### What do you suggest the client to achieve Business Objective ? \n",
        "Explain Briefly."
      ],
      "metadata": {
        "id": "8G2x9gOozGDZ"
      }
    },
    {
      "cell_type": "markdown",
      "source": [
        "Answer Here."
      ],
      "metadata": {
        "id": "pASKb0qOza21"
      }
    },
    {
      "cell_type": "markdown",
      "source": [
        "# **Conclusion**"
      ],
      "metadata": {
        "id": "gCX9965dhzqZ"
      }
    },
    {
      "cell_type": "markdown",
      "source": [
        "Write the conclusion here."
      ],
      "metadata": {
        "id": "Fjb1IsQkh3yE"
      }
    },
    {
      "cell_type": "markdown",
      "source": [
        "### ***Hurrah! You have successfully completed your EDA Capstone Project !!!***"
      ],
      "metadata": {
        "id": "gIfDvo9L0UH2"
      }
    }
  ]
}