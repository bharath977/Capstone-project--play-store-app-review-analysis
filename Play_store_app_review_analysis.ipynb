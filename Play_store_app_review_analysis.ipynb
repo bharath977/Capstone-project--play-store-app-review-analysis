{
  "nbformat": 4,
  "nbformat_minor": 0,
  "metadata": {
    "colab": {
      "private_outputs": true,
      "provenance": [],
      "collapsed_sections": [
        "fge-S5ZAYoAp",
        "85gYPyotYoAp",
        "RoGjAbkUYoAp",
        "4Of9eVA-YrdM",
        "iky9q4vBYrdO",
        "F6T5p64dYrdO",
        "y-Ehk30pYrdP",
        "bamQiAODYuh1",
        "QHF8YVU7Yuh3",
        "GwzvFGzlYuh3",
        "qYpmQ266Yuh3",
        "OH-pJp9IphqM",
        "bbFf2-_FphqN",
        "_ouA3fa0phqN",
        "Seke61FWphqN",
        "PIIx-8_IphqN",
        "t27r6nlMphqO",
        "r2jJGEOYphqO",
        "b0JNsNcRphqO",
        "BZR9WyysphqO",
        "jj7wYXLtphqO",
        "eZrbJ2SmphqO",
        "rFu4xreNphqO",
        "YJ55k-q6phqO",
        "gCFgpxoyphqP",
        "OVtJsKN_phqQ",
        "lssrdh5qphqQ",
        "U2RJ9gkRphqQ",
        "1M8mcRywphqQ",
        "tgIPom80phqQ",
        "JMzcOPDDphqR",
        "x-EpHcCOp1ci",
        "X_VqEhTip1ck",
        "8zGJKyg5p1ck",
        "PVzmfK_Ep1ck",
        "n3dbpmDWp1ck",
        "ylSl6qgtp1ck",
        "ZWILFDl5p1ck",
        "M7G43BXep1ck",
        "Ag9LCva-p1cl",
        "E6MkPsBcp1cl",
        "2cELzS2fp1cl",
        "3MPXvC8up1cl",
        "NC_X3p0fY2L0",
        "UV0SzAkaZNRQ",
        "YPEH6qLeZNRQ",
        "q29F0dvdveiT",
        "EXh0U9oCveiU",
        "22aHeOlLveiV",
        "8G2x9gOozGDZ",
        "gCX9965dhzqZ",
        "gIfDvo9L0UH2"
      ],
      "include_colab_link": true
    },
    "kernelspec": {
      "name": "python3",
      "display_name": "Python 3"
    },
    "language_info": {
      "name": "python"
    }
  },
  "cells": [
    {
      "cell_type": "markdown",
      "metadata": {
        "id": "view-in-github",
        "colab_type": "text"
      },
      "source": [
        "<a href=\"https://colab.research.google.com/github/bharath977/Capstone-project--play-store-app-review-analysis/blob/main/Play_store_app_review_analysis.ipynb\" target=\"_parent\"><img src=\"https://colab.research.google.com/assets/colab-badge.svg\" alt=\"Open In Colab\"/></a>"
      ]
    },
    {
      "cell_type": "markdown",
      "source": [
        "# **Project Name**    - Play Store App Review Analysis \n",
        "\n",
        "![images.jpg](data:image/jpeg;base64,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)"
      ],
      "metadata": {
        "id": "r35WQ9pzrId5"
      }
    },
    {
      "cell_type": "markdown",
      "source": [
        "##### **Project Type**    - EDA/Regression/Classification/Unsupervised\n",
        "##### **Contribution**    - Individual"
      ],
      "metadata": {
        "id": "beRrZCGUAJYm"
      }
    },
    {
      "cell_type": "markdown",
      "source": [
        "# **Project Summary -**"
      ],
      "metadata": {
        "id": "FJNUwmbgGyua"
      }
    },
    {
      "cell_type": "markdown",
      "source": [
        "Write the summary here within 500-600 words.\n",
        "\n",
        "Google Play Store is a digital distribution service developed and operated by google, It is an official apps store that provides variety content such as apps, books, magazines, music, movies and television programs. It serves an as platform to allow users with 'Google certified' Android operating system devices to donwload applications developed and published on the platform either with a charge or free of cost. With the rapidly growth of Android devices and apps, it would be interesting to perform data analysis on the data to obtain valuable insights.\n",
        "\n",
        "In this project we examine the different attributes present in the data set that affect the popularity of the application. We focused on to answer the questions like, what makes an app popular, what should be the price and size of the app. In our data set we have two csv files for data analysis: Play Store data User Reviews At first, we analysis the play store data and in the play store data we have 10841 rows and 13 columns & in the user review data we have 64295 rows and 5 columns of data. We have to take the maximum outcomes from the data which help us to analysis the which type of app is most preferable and comparisons between different insights. Our goal is to filter and make plots accordingly for a better EDA with respect to the final data.\n",
        "\n",
        "The dataset with 10k Play Store applications is available to analyze the market of android. It can be examined to analysis the different Category App, Rating, Reviews, Size, Installs, Type, Price, Content, Rating, Genres, Last Updated, Current Ver, Android Ver."
      ],
      "metadata": {
        "id": "F6v_1wHtG2nS"
      }
    },
    {
      "cell_type": "markdown",
      "source": [
        "# **GitHub Link -**"
      ],
      "metadata": {
        "id": "w6K7xa23Elo4"
      }
    },
    {
      "cell_type": "markdown",
      "source": [
        "Provide your GitHub Link here.\n",
        "\n",
        "https://github.com/bharath977/Capstone-project--play-store-app-review-analysis.git"
      ],
      "metadata": {
        "id": "h1o69JH3Eqqn"
      }
    },
    {
      "cell_type": "markdown",
      "source": [
        "# **Problem Statement**\n"
      ],
      "metadata": {
        "id": "yQaldy8SH6Dl"
      }
    },
    {
      "cell_type": "markdown",
      "source": [
        "[link text](https://)**Write Problem Statement Here.**\n",
        "Android is expanding as an operating system. It has captured around 74% of the total market which is a true indicator of the huge amount of population using android. Our goal is to help android developers to know what is the motivating factor for people to download an app. It will also help to find out the factors that affect someone’s decision to download an app. I would like to analyse category, reviews, price, ratings and installs for this purpose and find out how they are inter related.\n",
        "\n",
        "1.Find the correlaction of the data set?\n",
        "\n",
        "2.which Category has highest Reviews?\n",
        "\n",
        "3.Which category has the most no. of installations?\n",
        "\n",
        "4.Does the size of an app affect its rating?\n",
        "\n",
        "5.How does the count of apps varies by Genres?\n",
        "\n",
        "6.How Content Rating affect over the App?\n",
        "\n",
        "7.Sentiment analysis of user reviews?\n",
        "\n",
        "8.variances different between Paid and Free apps?\n",
        "\n",
        "9.Dose price affect the rating?\n",
        "\n",
        "\n",
        "\n"
      ],
      "metadata": {
        "id": "DpeJGUA3kjGy"
      }
    },
    {
      "cell_type": "markdown",
      "source": [
        "#### **Define Your Business Objective?**"
      ],
      "metadata": {
        "id": "PH-0ReGfmX4f"
      }
    },
    {
      "cell_type": "markdown",
      "source": [
        "Answer Here."
      ],
      "metadata": {
        "id": "PhDvGCAqmjP1"
      }
    },
    {
      "cell_type": "markdown",
      "source": [
        "# **General Guidelines** : -  "
      ],
      "metadata": {
        "id": "mDgbUHAGgjLW"
      }
    },
    {
      "cell_type": "markdown",
      "source": [
        "1.   Well-structured, formatted, and commented code is required. \n",
        "2.   Exception Handling, Production Grade Code & Deployment Ready Code will be a plus. Those students will be awarded some additional credits.      \n",
        "     The additional credits will have advantages over other students during Star Student selection.\n",
        "       \n",
        "             [ Note: - Deployment Ready Code is defined as, the whole .ipynb notebook should be executable in one go\n",
        "                       without a single error logged. ]\n",
        "\n",
        "3.   Each and every logic should have proper comments.\n",
        "4. You may add as many number of charts you want. Make Sure for each and every chart the following format should be answered.\n",
        "        \n",
        "\n",
        "```\n",
        "# Chart visualization code\n",
        "```\n",
        "            \n",
        "\n",
        "*   Why did you pick the specific chart?\n",
        "*   What is/are the insight(s) found from the chart?\n",
        "* Will the gained insights help creating a positive business impact? \n",
        "Are there any insights that lead to negative growth? Justify with specific reason.\n",
        "\n",
        "5. You have to create at least 20 logical & meaningful charts having important insights.\n",
        "\n",
        "\n",
        "[ Hints : - Do the Vizualization in  a structured way while following \"UBM\" Rule. \n",
        "\n",
        "U - Univariate Analysis,\n",
        "\n",
        "B - Bivariate Analysis (Numerical - Categorical, Numerical - Numerical, Categorical - Categorical)\n",
        "\n",
        "M - Multivariate Analysis\n",
        " ]\n",
        "\n",
        "\n",
        "\n"
      ],
      "metadata": {
        "id": "ZrxVaUj-hHfC"
      }
    },
    {
      "cell_type": "markdown",
      "source": [
        "# ***Let's Begin !***"
      ],
      "metadata": {
        "id": "O_i_v8NEhb9l"
      }
    },
    {
      "cell_type": "markdown",
      "source": [
        "## ***1. Know Your Data***"
      ],
      "metadata": {
        "id": "HhfV-JJviCcP"
      }
    },
    {
      "cell_type": "markdown",
      "source": [
        "### Import Libraries"
      ],
      "metadata": {
        "id": "Y3lxredqlCYt"
      }
    },
    {
      "cell_type": "code",
      "source": [
        "# Import Libraries\n",
        "import numpy as np\n",
        "import pandas as pd\n",
        "import seaborn as sns\n",
        "import matplotlib.pyplot as plt\n",
        "import missingno as msno\n",
        "%matplotlib inline"
      ],
      "metadata": {
        "id": "M8Vqi-pPk-HR"
      },
      "execution_count": null,
      "outputs": []
    },
    {
      "cell_type": "markdown",
      "source": [
        "### Dataset Loading"
      ],
      "metadata": {
        "id": "3RnN4peoiCZX"
      }
    },
    {
      "cell_type": "code",
      "source": [
        "# Load Dataset\n",
        "from google.colab import drive\n",
        "drive.mount('/content/drive')"
      ],
      "metadata": {
        "id": "4CkvbW_SlZ_R"
      },
      "execution_count": null,
      "outputs": []
    },
    {
      "cell_type": "markdown",
      "source": [
        "### Dataset First View"
      ],
      "metadata": {
        "id": "x71ZqKXriCWQ"
      }
    },
    {
      "cell_type": "code",
      "source": [
        "# Dataset First Look\n",
        "file_location = file_location = '/content/drive/MyDrive/play store review analysis/'\n",
        "df_store = pd.read_csv(file_location + 'Play Store Data.csv')\n",
        "df_review = pd.read_csv(file_location + 'User Reviews.csv')"
      ],
      "metadata": {
        "id": "LWNFOSvLl09H"
      },
      "execution_count": null,
      "outputs": []
    },
    {
      "cell_type": "markdown",
      "source": [
        "### Dataset Rows & Columns count"
      ],
      "metadata": {
        "id": "7hBIi_osiCS2"
      }
    },
    {
      "cell_type": "code",
      "source": [
        "# Dataset Rows & Columns count\n",
        "# Dataset First Look\n",
        "df_store.head()"
      ],
      "metadata": {
        "id": "Kllu7SJgmLij"
      },
      "execution_count": null,
      "outputs": []
    },
    {
      "cell_type": "code",
      "source": [
        "#Play store data.csv Dataset First Look\n",
        "df_review.head()"
      ],
      "metadata": {
        "id": "R5Q4Q9c_EsBq"
      },
      "execution_count": null,
      "outputs": []
    },
    {
      "cell_type": "code",
      "source": [
        "# last 5 rows of play store data dataset\n",
        "df_store.tail()"
      ],
      "metadata": {
        "id": "YiOg7u1NEv0U"
      },
      "execution_count": null,
      "outputs": []
    },
    {
      "cell_type": "code",
      "source": [
        "# last 5 rows of play store data dataset\n",
        "df_review.tail()"
      ],
      "metadata": {
        "id": "704DECG5EzE7"
      },
      "execution_count": null,
      "outputs": []
    },
    {
      "cell_type": "code",
      "source": [
        "# Dataset Rows & Columns count\n",
        "# firstly, we counted row and columns of play store dataset\n",
        "# computing number of rows\n",
        "rows_playstore = len(df_store.axes[0])\n",
        " \n",
        "# computing number of columns\n",
        "columns_playstore = len(df_store.axes[1])\n",
        " \n",
        "print(rows_playstore)\n",
        "print(columns_playstore)"
      ],
      "metadata": {
        "id": "wjjg3pVWFONF"
      },
      "execution_count": null,
      "outputs": []
    },
    {
      "cell_type": "code",
      "source": [
        "# Dataset Rows & Columns count\n",
        "# firstly, we counted row and columns of play store dataset\n",
        "# computing number of rows\n",
        "rows_playstore = len(df_review.axes[0])\n",
        " \n",
        "# computing number of columns\n",
        "columns_playstore = len(df_review.axes[1])\n",
        " \n",
        "print(rows_playstore)\n",
        "print(columns_playstore)"
      ],
      "metadata": {
        "id": "0INhjD-l3AXa"
      },
      "execution_count": null,
      "outputs": []
    },
    {
      "cell_type": "markdown",
      "source": [
        "### Dataset Information"
      ],
      "metadata": {
        "id": "JlHwYmJAmNHm"
      }
    },
    {
      "cell_type": "code",
      "source": [
        "# Dataset Info\n",
        "\n",
        "df_store.info()"
      ],
      "metadata": {
        "id": "e9hRXRi6meOf"
      },
      "execution_count": null,
      "outputs": []
    },
    {
      "cell_type": "code",
      "source": [
        "df_review.info()"
      ],
      "metadata": {
        "id": "-SCuR_eMKUi2"
      },
      "execution_count": null,
      "outputs": []
    },
    {
      "cell_type": "markdown",
      "source": [
        "#### Duplicate Values"
      ],
      "metadata": {
        "id": "35m5QtbWiB9F"
      }
    },
    {
      "cell_type": "code",
      "source": [
        "# Dataset Duplicate Value Count\n",
        "# here we count the number of duplicated app\n",
        "duplicate_value = df_store[df_store.duplicated()]\n",
        "print(len(duplicate_value))"
      ],
      "metadata": {
        "id": "ZI156-xK3Sdf"
      },
      "execution_count": null,
      "outputs": []
    },
    {
      "cell_type": "markdown",
      "source": [
        "#### Missing Values/Null Values"
      ],
      "metadata": {
        "id": "PoPl-ycgm1ru"
      }
    },
    {
      "cell_type": "code",
      "source": [
        "# Missing Values/Null Values Count\n",
        "print (f\"Missing Values in each column\"+\"\\n\" + \"--\"*15)\n",
        "\n",
        "#sum of null values per column\n",
        "df_store.isnull().sum()"
      ],
      "metadata": {
        "id": "-MMdCWt33mVB"
      },
      "execution_count": null,
      "outputs": []
    },
    {
      "cell_type": "code",
      "source": [
        "# Visualizing the missing values\n",
        "msno.bar(df_store, figsize=(10,5), fontsize=12, color = 'orange')"
      ],
      "metadata": {
        "id": "cwEBCCic35TJ"
      },
      "execution_count": null,
      "outputs": []
    },
    {
      "cell_type": "markdown",
      "source": [
        "**Inference**\n",
        "\n",
        "\n",
        "From the above bar garph shows the missing values of each column from given set of data"
      ],
      "metadata": {
        "id": "q46o9T5Y9bup"
      }
    },
    {
      "cell_type": "markdown",
      "source": [
        "### What did you know about your dataset?"
      ],
      "metadata": {
        "id": "H0kj-8xxnORC"
      }
    },
    {
      "cell_type": "markdown",
      "source": [
        "\n",
        "Dataset contains the Raw data of play store app review we need clean and understand the data to analyze common technique used to explore and understand the characteristics of a dataset Exploratory data analysis (EDA). EDA involves visualizing and summarizing the data, identifying patterns and relationships, and detecting anomalies and outliers. this technique help to gain insights into the data, generate hypotheses, and formulate research questions.the data to get desired output\n",
        "\n",
        "\n",
        "1. There are 13 columns of properties with 10841 rows of data.\n",
        "2. There are 1487 missing values and 483 duplicate apps in the given dataset.\n",
        "\n",
        "3. Column 'Reviews', 'Size', 'Installs' and 'Price' are in the type of 'object' .\n",
        "\n",
        "4. Values of column 'Size' are strings representing size in 'M' as Megabytes, 'k' as kilobytes and also 'Varies with devices'.\n",
        "\n",
        "5. Values of column 'Installs' are strings representing install amount with symbols such as ',' and '+'.\n",
        "\n",
        "6. Values of column 'Price' are strings representing price with symbol '$'."
      ],
      "metadata": {
        "id": "gfoNAAC-nUe_"
      }
    },
    {
      "cell_type": "code",
      "source": [
        "# removing null values in Rating column\n",
        "df_store.dropna(subset=[\"Rating\"],axis=0,inplace=True)\n",
        "\n",
        "print(df_store.shape)\n"
      ],
      "metadata": {
        "id": "j7xfkqrt5Ag5"
      },
      "execution_count": null,
      "outputs": []
    },
    {
      "cell_type": "code",
      "source": [
        "#Since the ratio of missing values for the rest of the columns is less (<0.05), we proceed to fill these with the mean values instead of dropping these rows.\n",
        "\n",
        "df_store['Current Ver'] = df_store['Current Ver'].fillna(df_store['Current Ver'].mode()[0])\n",
        "df_store['Android Ver'] = df_store['Android Ver'].fillna(df_store['Android Ver'].mode()[0])\n",
        "df_store['Content Rating'] = df_store['Content Rating'].fillna(df_store['Content Rating'].mode()[0])\n",
        "\n",
        "#now, again check for missing value in dataset\n",
        "df_store.isnull().sum()"
      ],
      "metadata": {
        "id": "8--MGpmMCBqp"
      },
      "execution_count": null,
      "outputs": []
    },
    {
      "cell_type": "code",
      "source": [
        "# drop duplicate apps\n",
        "df_store.drop_duplicates(subset='App', inplace=True)"
      ],
      "metadata": {
        "id": "PfF6xgO9C0Uq"
      },
      "execution_count": null,
      "outputs": []
    },
    {
      "cell_type": "markdown",
      "source": [
        "## ***2. Understanding Your Variables***"
      ],
      "metadata": {
        "id": "n_5k1r8AFA03"
      }
    },
    {
      "cell_type": "markdown",
      "source": [
        "### Variables Description "
      ],
      "metadata": {
        "id": "PBTbrJXOngz2"
      }
    },
    {
      "cell_type": "markdown",
      "source": [
        "###**The Following Are The variables Of Play Store Data Are Explained Below**###\n",
        "\n",
        "App: It contains the name of the app with a short description.\n",
        "\n",
        "Category: This section gives the category to which an app belongs. In this dataset, the apps are divided among 33 categories.\n",
        "\n",
        "Size: The disk space required to install the respective app.\n",
        "\n",
        "Rating: The average rating given by the users for the respective app. It can be in between 1 and 5.\n",
        "\n",
        "Reviews: The number of users that have dropped a review for the respective app.\n",
        "\n",
        "Installs: The approximate number of times the respective app was installed.\n",
        "\n",
        "Type: It states whether an app is free to use or paid.\n",
        "\n",
        "Price: It gives the price payable to install the app. For free type apps, the price is zero.\n",
        "\n",
        "Content rating: It states which age group is suitable to consume the content of the respective app.\n",
        "\n",
        "Genres: It gives the genre(s) to which the respective app belongs.\n",
        "\n",
        "Last updated: It gives the day in which the latest update for the respective app was released.\n",
        "\n",
        "Current Ver: It gives the current version of the respective app.\n",
        "\n",
        "Android Ver: It gives the android version of the respective app."
      ],
      "metadata": {
        "id": "89ynDML2DTCv"
      }
    },
    {
      "cell_type": "code",
      "source": [
        "# Dataset Column\n",
        "print(list(df_store.columns))\n"
      ],
      "metadata": {
        "id": "jtgJD3qiC9aY"
      },
      "execution_count": null,
      "outputs": []
    },
    {
      "cell_type": "code",
      "source": [
        "# Dataset Describe\n",
        "df_store.describe(include = 'all').T"
      ],
      "metadata": {
        "id": "HceJ95JQDCuJ"
      },
      "execution_count": null,
      "outputs": []
    },
    {
      "cell_type": "markdown",
      "source": [
        "Answer Here"
      ],
      "metadata": {
        "id": "aJV4KIxSnxay"
      }
    },
    {
      "cell_type": "markdown",
      "source": [
        "### Check Unique Values for each variable."
      ],
      "metadata": {
        "id": "u3PMJOP6ngxN"
      }
    },
    {
      "cell_type": "code",
      "source": [
        "# Check Unique Values for each variable.\n",
        "# Check unique number of apps in 'App' column  \n",
        "print(df_store['App'].unique())\n",
        "print(len(df_store['App'].unique()))\n"
      ],
      "metadata": {
        "id": "zms12Yq5n-jE"
      },
      "execution_count": null,
      "outputs": []
    },
    {
      "cell_type": "code",
      "source": [
        "# Check unique number of category in 'Category' column\n",
        "print(df_store['Category'].unique())"
      ],
      "metadata": {
        "id": "SbA1e_xEF6HX"
      },
      "execution_count": null,
      "outputs": []
    },
    {
      "cell_type": "code",
      "source": [
        "# here,there is a category with name '1.9' that could be an error in data entry\n",
        "df_store.drop(df_store[(df_store['Category'] == '1.9')].index, inplace=True)\n",
        "\n",
        "len(df_store['Category'].unique())\n",
        "\n"
      ],
      "metadata": {
        "id": "DJGjPk3sPyHe"
      },
      "execution_count": null,
      "outputs": []
    },
    {
      "cell_type": "code",
      "source": [
        "# Check unique number of ratings in 'Rating' column\n",
        "print(df_store['Rating'].unique())"
      ],
      "metadata": {
        "id": "prgVdf9BQfGc"
      },
      "execution_count": null,
      "outputs": []
    },
    {
      "cell_type": "code",
      "source": [
        "# Check unique number of reviews in 'Reviews' column -\n",
        "df_store['Reviews'].unique()"
      ],
      "metadata": {
        "id": "BRZtoD6_Qw61"
      },
      "execution_count": null,
      "outputs": []
    },
    {
      "cell_type": "code",
      "source": [
        "#as dtype of reviews column is in object so we have to change in int\n",
        "df_store['Reviews'] = df_store['Reviews'].astype(int)\n"
      ],
      "metadata": {
        "id": "1W8zK503RGD9"
      },
      "execution_count": null,
      "outputs": []
    },
    {
      "cell_type": "code",
      "source": [
        "# Check unique number of size in 'Size' column -\n",
        "print(df_store['Size'].unique())"
      ],
      "metadata": {
        "id": "TnfBzjlzRaUA"
      },
      "execution_count": null,
      "outputs": []
    },
    {
      "cell_type": "code",
      "source": [
        "### 'Size' column - convert Mbs to kbs\n",
        "df_store['Size'] = df_store.Size.replace(\"Varies with device\",np.nan)\n",
        "df_store['Size'] = df_store.Size.str.replace(\"M\",\"000\") \n",
        "df_store['Size'] = df_store.Size.str.replace(\"k\",\"\")\n",
        "df_store['Size'] = df_store.Size.replace(\"1,000+\",1000)\n",
        "#change data type of size\n",
        "df_store['Size'] = df_store['Size'].astype(float)\n",
        "df_store['Size'].dtype\n"
      ],
      "metadata": {
        "id": "elD3iZLRSfi6"
      },
      "execution_count": null,
      "outputs": []
    },
    {
      "cell_type": "code",
      "source": [
        "# size varies with device is replacing with NaN \n",
        "df_store['Size'].replace('Varies with device', 'NaN', inplace = True)"
      ],
      "metadata": {
        "id": "k948m-0xcFnh"
      },
      "execution_count": null,
      "outputs": []
    },
    {
      "cell_type": "code",
      "source": [
        "# Check unique number of install in 'Install' column -\n",
        "df_store['Installs'].unique()"
      ],
      "metadata": {
        "id": "OQyKwVDCdDlp"
      },
      "execution_count": null,
      "outputs": []
    },
    {
      "cell_type": "code",
      "source": [
        "# as install column contain values with ',' and '+' , so we have to replace it with empty string and convert it into int\n",
        "df_store['Installs'] = df_store['Installs'].apply(lambda x: x.replace(',',''))\n",
        "df_store['Installs'] = df_store['Installs'].apply(lambda x: x.replace('+',''))\n",
        "df_store['Installs'] = df_store['Installs'].astype(dtype = 'int')"
      ],
      "metadata": {
        "id": "CVfPJRXedKcS"
      },
      "execution_count": null,
      "outputs": []
    },
    {
      "cell_type": "code",
      "source": [
        "# Check unique number of types in 'Type' column -\n",
        "df_store['Type'].unique()"
      ],
      "metadata": {
        "id": "cbu80BjfeIs0"
      },
      "execution_count": null,
      "outputs": []
    },
    {
      "cell_type": "code",
      "source": [
        "# Check unique price in 'price' column\n",
        "df_store['Price'].unique()"
      ],
      "metadata": {
        "id": "mozwIE7ieVFw"
      },
      "execution_count": null,
      "outputs": []
    },
    {
      "cell_type": "code",
      "source": [
        "# we need remove '$' the special char from the Price column\n",
        "df_store['Price'] = df_store['Price'].apply(lambda x : x.replace('$', ''))\n",
        "df_store['Price'] = df_store['Price'].apply(lambda x : float(x))\n"
      ],
      "metadata": {
        "id": "W4dvdHCoe4oB"
      },
      "execution_count": null,
      "outputs": []
    },
    {
      "cell_type": "code",
      "source": [
        "# Check unique number of content ratings in 'Content Rating' column -\n",
        "df_store['Content Rating'].unique()"
      ],
      "metadata": {
        "id": "ZQ0IVPMPghHb"
      },
      "execution_count": null,
      "outputs": []
    },
    {
      "cell_type": "code",
      "source": [
        "# Check unique number of Geners from 'geners' column\n",
        "df_store['Genres'].unique()"
      ],
      "metadata": {
        "id": "CF0ieoM5goXi"
      },
      "execution_count": null,
      "outputs": []
    },
    {
      "cell_type": "code",
      "source": [
        "# Check unique number of updates in 'Last Updated' column -\n",
        "df_store['Last Updated'].unique()\n",
        "#Changing the datatype of the Last Updated column from string to datetime.\n",
        "df_store[\"Last Updated\"] = pd.to_datetime(df_store['Last Updated'])"
      ],
      "metadata": {
        "id": "3y77Rylci4Ou"
      },
      "execution_count": null,
      "outputs": []
    },
    {
      "cell_type": "code",
      "source": [
        "# Check unique number of versions in 'Current Ver' column -\n",
        "df_store['Current Ver'].unique()"
      ],
      "metadata": {
        "id": "frkHbmzniv4B"
      },
      "execution_count": null,
      "outputs": []
    },
    {
      "cell_type": "code",
      "source": [
        "# Check unique number of Android Version in 'Android Ver' column -\n",
        "df_store['Android Ver'].unique()"
      ],
      "metadata": {
        "id": "AfI0qRXripLh"
      },
      "execution_count": null,
      "outputs": []
    },
    {
      "cell_type": "code",
      "source": [
        "# Deleting the rows containing NaN values in user_review\n",
        "df_review = df_review.dropna()\n",
        "df_review.shape"
      ],
      "metadata": {
        "id": "nOV9XheAiYMf"
      },
      "execution_count": null,
      "outputs": []
    },
    {
      "cell_type": "markdown",
      "source": [
        "**Inference**\n",
        "\n",
        "data has been cleaned with removing the duplicate values, NaN,converted Mbs to kbs ,datatype has corrected "
      ],
      "metadata": {
        "id": "shd0Bdy1jL2K"
      }
    },
    {
      "cell_type": "markdown",
      "source": [
        "## 3. ***Data Wrangling***"
      ],
      "metadata": {
        "id": "dauF4eBmngu3"
      }
    },
    {
      "cell_type": "markdown",
      "source": [
        "### Data Wrangling Code"
      ],
      "metadata": {
        "id": "bKJF3rekwFvQ"
      }
    },
    {
      "cell_type": "code",
      "source": [
        "category_list = list(df_store['Category'].unique())\n",
        "category_review = []\n",
        "for i in category_list:\n",
        "    x = df_store[df_store['Category'] == i]\n",
        "    if(len(x)!=0):\n",
        "        review = sum(x.Reviews)/len(x)\n",
        "        category_review.append(review)\n",
        "    else:\n",
        "        review = sum(x.Reviews)\n",
        "        category_review.append(review)\n",
        "#sorting\n",
        "data_category_reviews = pd.DataFrame({'category': category_list,'review':category_review})\n",
        "new_index = (data_category_reviews['review'].sort_values(ascending=False)).index.values\n",
        "sorted_data =data_category_reviews.reindex(new_index)\n"
      ],
      "metadata": {
        "id": "VhLb5pIjLVP9"
      },
      "execution_count": null,
      "outputs": []
    },
    {
      "cell_type": "markdown",
      "source": [
        "### What all manipulations have you done and insights you found?\n",
        "\n",
        "we are sorting the values for required column to analysis the data "
      ],
      "metadata": {
        "id": "MSa1f5Uengrz"
      }
    },
    {
      "cell_type": "markdown",
      "source": [
        "Answer Here."
      ],
      "metadata": {
        "id": "LbyXE7I1olp8"
      }
    },
    {
      "cell_type": "markdown",
      "source": [
        "## ***4. Data Vizualization, Storytelling & Experimenting with charts : Understand the relationships between variables***"
      ],
      "metadata": {
        "id": "GF8Ens_Soomf"
      }
    },
    {
      "cell_type": "markdown",
      "source": [
        "#### Chart - 1"
      ],
      "metadata": {
        "id": "0wOQAZs5pc--"
      }
    },
    {
      "cell_type": "code",
      "source": [
        "# Chart - 1 visualization code\n",
        "# Write your code to make your dataset analysis ready.\n",
        "\n",
        "#problem 1:Find the correlaction of the data set?\n",
        "\n",
        "df_store.corr()"
      ],
      "metadata": {
        "id": "7v_ESjsspbW7"
      },
      "execution_count": null,
      "outputs": []
    },
    {
      "cell_type": "code",
      "source": [
        "#correlation map\n",
        "# data visualization\n",
        "plt.figure(figsize=(15,10))\n",
        "sns.set_theme(style=\"white\")\n",
        "sns.heatmap(df_store.corr(), annot=True, cmap=\"Blues\", fmt='.1g')\n",
        "plt.show()\n"
      ],
      "metadata": {
        "id": "GX9G31BVuhYT"
      },
      "execution_count": null,
      "outputs": []
    },
    {
      "cell_type": "markdown",
      "source": [
        "##### 1. Why did you pick the specific chart?\n"
      ],
      "metadata": {
        "id": "K5QZ13OEpz2H"
      }
    },
    {
      "cell_type": "markdown",
      "source": [
        "Answer Here.\n",
        "To visualise the correlations between all variables, not just the target variable, you can create a correlation matrix. This is essentially the same as the dataframe above, but with a row for each variable, and a neat colour coding scheme that allows you to see which values are most positively or negatively correlated based on the depth of their colour. Pale cells denote values with a negative correlation, while dark cells denote a stronger positive correlation. The fmt='.1g' argument reduces the number of decimal points, where it’s feasible to do so, to aid readability."
      ],
      "metadata": {
        "id": "XESiWehPqBRc"
      }
    },
    {
      "cell_type": "markdown",
      "source": [
        "#### Chart - 2"
      ],
      "metadata": {
        "id": "FoSaF7rwsVzW"
      }
    },
    {
      "cell_type": "code",
      "source": [
        "# Chart - 2 visualization code\n",
        "# which Category has highest Reviews?\n",
        "plt.figure(figsize=(20,15))\n",
        "sns.scatterplot(x = sorted_data['category'],y = sorted_data['review'])\n",
        "plt.xticks(rotation=100)\n",
        "plt.title(\"Category and Reviews\")\n",
        "plt.xlabel(\"Category\")\n",
        "plt.ylabel(\"Reviews\")\n",
        "plt.show()"
      ],
      "metadata": {
        "id": "ulD6W8SnEZD2"
      },
      "execution_count": null,
      "outputs": []
    },
    {
      "cell_type": "markdown",
      "source": [
        "##### 2. What is/are the insight(s) found from the chart?"
      ],
      "metadata": {
        "id": "lQ7QKXXCp7Bj"
      }
    },
    {
      "cell_type": "markdown",
      "source": [
        "Answer Here\n",
        "\n",
        "We used Seaborn scatterplot() function, which offers additional options such as adding a regression line to the plot. Plotly provides an interactive scatter plot with hover-over tooltips and other features.\n",
        "\n",
        "by observing above chart that social and communictaion category has highest reviews.![reply-animation.png](data:image/png;base64,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)"
      ],
      "metadata": {
        "id": "Hf7IlBlKqOeX"
      }
    },
    {
      "cell_type": "markdown",
      "source": [
        "##### 3. Will the gained insights help creating a positive business impact? \n",
        "Are there any insights that lead to negative growth? Justify with specific reason."
      ],
      "metadata": {
        "id": "448CDAPjqfQr"
      }
    },
    {
      "cell_type": "markdown",
      "source": [
        "Answer Here\n",
        "\n",
        "yes, with the gained information we can suggest that the social and communication app are reviewed highly by the customers so business so keep improving and upadate with leatest futures so the customers growth can rate will increase\n",
        "\n",
        "\n",
        "\n",
        "The negative growth shows the low reviews from the customers are exit from those apps for those categories which are not poplur or either its not updated with new features "
      ],
      "metadata": {
        "id": "3cspy4FjqxJW"
      }
    },
    {
      "cell_type": "markdown",
      "source": [
        "#### Chart - 3"
      ],
      "metadata": {
        "id": "EM7whBJCYoAo"
      }
    },
    {
      "cell_type": "code",
      "source": [
        "# Chart - 3 visualization code\n"
      ],
      "metadata": {
        "id": "t6GMdE67YoAp"
      },
      "execution_count": null,
      "outputs": []
    },
    {
      "cell_type": "markdown",
      "source": [
        "##### 1. Why did you pick the specific chart?"
      ],
      "metadata": {
        "id": "fge-S5ZAYoAp"
      }
    },
    {
      "cell_type": "markdown",
      "source": [
        "Answer Here."
      ],
      "metadata": {
        "id": "5dBItgRVYoAp"
      }
    },
    {
      "cell_type": "markdown",
      "source": [
        "##### 2. What is/are the insight(s) found from the chart?"
      ],
      "metadata": {
        "id": "85gYPyotYoAp"
      }
    },
    {
      "cell_type": "markdown",
      "source": [
        "Answer Here"
      ],
      "metadata": {
        "id": "4jstXR6OYoAp"
      }
    },
    {
      "cell_type": "markdown",
      "source": [
        "##### 3. Will the gained insights help creating a positive business impact? \n",
        "Are there any insights that lead to negative growth? Justify with specific reason."
      ],
      "metadata": {
        "id": "RoGjAbkUYoAp"
      }
    },
    {
      "cell_type": "markdown",
      "source": [
        "Answer Here"
      ],
      "metadata": {
        "id": "zfJ8IqMcYoAp"
      }
    },
    {
      "cell_type": "markdown",
      "source": [
        "#### Chart - 4"
      ],
      "metadata": {
        "id": "4Of9eVA-YrdM"
      }
    },
    {
      "cell_type": "code",
      "source": [
        "# Chart - 4 visualization code"
      ],
      "metadata": {
        "id": "irlUoxc8YrdO"
      },
      "execution_count": null,
      "outputs": []
    },
    {
      "cell_type": "markdown",
      "source": [
        "##### 1. Why did you pick the specific chart?"
      ],
      "metadata": {
        "id": "iky9q4vBYrdO"
      }
    },
    {
      "cell_type": "markdown",
      "source": [
        "Answer Here."
      ],
      "metadata": {
        "id": "aJRCwT6DYrdO"
      }
    },
    {
      "cell_type": "markdown",
      "source": [
        "##### 2. What is/are the insight(s) found from the chart?"
      ],
      "metadata": {
        "id": "F6T5p64dYrdO"
      }
    },
    {
      "cell_type": "markdown",
      "source": [
        "Answer Here"
      ],
      "metadata": {
        "id": "Xx8WAJvtYrdO"
      }
    },
    {
      "cell_type": "markdown",
      "source": [
        "##### 3. Will the gained insights help creating a positive business impact? \n",
        "Are there any insights that lead to negative growth? Justify with specific reason."
      ],
      "metadata": {
        "id": "y-Ehk30pYrdP"
      }
    },
    {
      "cell_type": "markdown",
      "source": [
        "Answer Here"
      ],
      "metadata": {
        "id": "jLNxxz7MYrdP"
      }
    },
    {
      "cell_type": "markdown",
      "source": [
        "#### Chart - 5"
      ],
      "metadata": {
        "id": "bamQiAODYuh1"
      }
    },
    {
      "cell_type": "code",
      "source": [
        "# Chart - 5 visualization code"
      ],
      "metadata": {
        "id": "TIJwrbroYuh3"
      },
      "execution_count": null,
      "outputs": []
    },
    {
      "cell_type": "markdown",
      "source": [
        "##### 1. Why did you pick the specific chart?"
      ],
      "metadata": {
        "id": "QHF8YVU7Yuh3"
      }
    },
    {
      "cell_type": "markdown",
      "source": [
        "Answer Here."
      ],
      "metadata": {
        "id": "dcxuIMRPYuh3"
      }
    },
    {
      "cell_type": "markdown",
      "source": [
        "##### 2. What is/are the insight(s) found from the chart?"
      ],
      "metadata": {
        "id": "GwzvFGzlYuh3"
      }
    },
    {
      "cell_type": "markdown",
      "source": [
        "Answer Here"
      ],
      "metadata": {
        "id": "uyqkiB8YYuh3"
      }
    },
    {
      "cell_type": "markdown",
      "source": [
        "##### 3. Will the gained insights help creating a positive business impact? \n",
        "Are there any insights that lead to negative growth? Justify with specific reason."
      ],
      "metadata": {
        "id": "qYpmQ266Yuh3"
      }
    },
    {
      "cell_type": "markdown",
      "source": [
        "Answer Here"
      ],
      "metadata": {
        "id": "_WtzZ_hCYuh4"
      }
    },
    {
      "cell_type": "markdown",
      "source": [
        "#### Chart - 6"
      ],
      "metadata": {
        "id": "OH-pJp9IphqM"
      }
    },
    {
      "cell_type": "code",
      "source": [
        "# Chart - 6 visualization code"
      ],
      "metadata": {
        "id": "kuRf4wtuphqN"
      },
      "execution_count": null,
      "outputs": []
    },
    {
      "cell_type": "markdown",
      "source": [
        "##### 1. Why did you pick the specific chart?"
      ],
      "metadata": {
        "id": "bbFf2-_FphqN"
      }
    },
    {
      "cell_type": "markdown",
      "source": [
        "Answer Here."
      ],
      "metadata": {
        "id": "loh7H2nzphqN"
      }
    },
    {
      "cell_type": "markdown",
      "source": [
        "##### 2. What is/are the insight(s) found from the chart?"
      ],
      "metadata": {
        "id": "_ouA3fa0phqN"
      }
    },
    {
      "cell_type": "markdown",
      "source": [
        "Answer Here"
      ],
      "metadata": {
        "id": "VECbqPI7phqN"
      }
    },
    {
      "cell_type": "markdown",
      "source": [
        "##### 3. Will the gained insights help creating a positive business impact? \n",
        "Are there any insights that lead to negative growth? Justify with specific reason."
      ],
      "metadata": {
        "id": "Seke61FWphqN"
      }
    },
    {
      "cell_type": "markdown",
      "source": [
        "Answer Here"
      ],
      "metadata": {
        "id": "DW4_bGpfphqN"
      }
    },
    {
      "cell_type": "markdown",
      "source": [
        "#### Chart - 7"
      ],
      "metadata": {
        "id": "PIIx-8_IphqN"
      }
    },
    {
      "cell_type": "code",
      "source": [
        "# Chart - 7 visualization code"
      ],
      "metadata": {
        "id": "lqAIGUfyphqO"
      },
      "execution_count": null,
      "outputs": []
    },
    {
      "cell_type": "markdown",
      "source": [
        "##### 1. Why did you pick the specific chart?"
      ],
      "metadata": {
        "id": "t27r6nlMphqO"
      }
    },
    {
      "cell_type": "markdown",
      "source": [
        "Answer Here."
      ],
      "metadata": {
        "id": "iv6ro40sphqO"
      }
    },
    {
      "cell_type": "markdown",
      "source": [
        "##### 2. What is/are the insight(s) found from the chart?"
      ],
      "metadata": {
        "id": "r2jJGEOYphqO"
      }
    },
    {
      "cell_type": "markdown",
      "source": [
        "Answer Here"
      ],
      "metadata": {
        "id": "Po6ZPi4hphqO"
      }
    },
    {
      "cell_type": "markdown",
      "source": [
        "##### 3. Will the gained insights help creating a positive business impact? \n",
        "Are there any insights that lead to negative growth? Justify with specific reason."
      ],
      "metadata": {
        "id": "b0JNsNcRphqO"
      }
    },
    {
      "cell_type": "markdown",
      "source": [
        "Answer Here"
      ],
      "metadata": {
        "id": "xvSq8iUTphqO"
      }
    },
    {
      "cell_type": "markdown",
      "source": [
        "#### Chart - 8"
      ],
      "metadata": {
        "id": "BZR9WyysphqO"
      }
    },
    {
      "cell_type": "code",
      "source": [
        "# Chart - 8 visualization code"
      ],
      "metadata": {
        "id": "TdPTWpAVphqO"
      },
      "execution_count": null,
      "outputs": []
    },
    {
      "cell_type": "markdown",
      "source": [
        "##### 1. Why did you pick the specific chart?"
      ],
      "metadata": {
        "id": "jj7wYXLtphqO"
      }
    },
    {
      "cell_type": "markdown",
      "source": [
        "Answer Here."
      ],
      "metadata": {
        "id": "Ob8u6rCTphqO"
      }
    },
    {
      "cell_type": "markdown",
      "source": [
        "##### 2. What is/are the insight(s) found from the chart?"
      ],
      "metadata": {
        "id": "eZrbJ2SmphqO"
      }
    },
    {
      "cell_type": "markdown",
      "source": [
        "Answer Here"
      ],
      "metadata": {
        "id": "mZtgC_hjphqO"
      }
    },
    {
      "cell_type": "markdown",
      "source": [
        "##### 3. Will the gained insights help creating a positive business impact? \n",
        "Are there any insights that lead to negative growth? Justify with specific reason."
      ],
      "metadata": {
        "id": "rFu4xreNphqO"
      }
    },
    {
      "cell_type": "markdown",
      "source": [
        "Answer Here"
      ],
      "metadata": {
        "id": "ey_0qi68phqO"
      }
    },
    {
      "cell_type": "markdown",
      "source": [
        "#### Chart - 9"
      ],
      "metadata": {
        "id": "YJ55k-q6phqO"
      }
    },
    {
      "cell_type": "code",
      "source": [
        "# Chart - 9 visualization code"
      ],
      "metadata": {
        "id": "B2aS4O1ophqO"
      },
      "execution_count": null,
      "outputs": []
    },
    {
      "cell_type": "markdown",
      "source": [
        "##### 1. Why did you pick the specific chart?"
      ],
      "metadata": {
        "id": "gCFgpxoyphqP"
      }
    },
    {
      "cell_type": "markdown",
      "source": [
        "Answer Here."
      ],
      "metadata": {
        "id": "TVxDimi2phqP"
      }
    },
    {
      "cell_type": "markdown",
      "source": [
        "##### 2. What is/are the insight(s) found from the chart?"
      ],
      "metadata": {
        "id": "OVtJsKN_phqQ"
      }
    },
    {
      "cell_type": "markdown",
      "source": [
        "Answer Here"
      ],
      "metadata": {
        "id": "ngGi97qjphqQ"
      }
    },
    {
      "cell_type": "markdown",
      "source": [
        "##### 3. Will the gained insights help creating a positive business impact? \n",
        "Are there any insights that lead to negative growth? Justify with specific reason."
      ],
      "metadata": {
        "id": "lssrdh5qphqQ"
      }
    },
    {
      "cell_type": "markdown",
      "source": [
        "Answer Here"
      ],
      "metadata": {
        "id": "tBpY5ekJphqQ"
      }
    },
    {
      "cell_type": "markdown",
      "source": [
        "#### Chart - 10"
      ],
      "metadata": {
        "id": "U2RJ9gkRphqQ"
      }
    },
    {
      "cell_type": "code",
      "source": [
        "# Chart - 10 visualization code"
      ],
      "metadata": {
        "id": "GM7a4YP4phqQ"
      },
      "execution_count": null,
      "outputs": []
    },
    {
      "cell_type": "markdown",
      "source": [
        "##### 1. Why did you pick the specific chart?"
      ],
      "metadata": {
        "id": "1M8mcRywphqQ"
      }
    },
    {
      "cell_type": "markdown",
      "source": [
        "Answer Here."
      ],
      "metadata": {
        "id": "8agQvks0phqQ"
      }
    },
    {
      "cell_type": "markdown",
      "source": [
        "##### 2. What is/are the insight(s) found from the chart?"
      ],
      "metadata": {
        "id": "tgIPom80phqQ"
      }
    },
    {
      "cell_type": "markdown",
      "source": [
        "Answer Here"
      ],
      "metadata": {
        "id": "Qp13pnNzphqQ"
      }
    },
    {
      "cell_type": "markdown",
      "source": [
        "##### 3. Will the gained insights help creating a positive business impact? \n",
        "Are there any insights that lead to negative growth? Justify with specific reason."
      ],
      "metadata": {
        "id": "JMzcOPDDphqR"
      }
    },
    {
      "cell_type": "markdown",
      "source": [
        "Answer Here"
      ],
      "metadata": {
        "id": "R4Ka1PC2phqR"
      }
    },
    {
      "cell_type": "markdown",
      "source": [
        "#### Chart - 11"
      ],
      "metadata": {
        "id": "x-EpHcCOp1ci"
      }
    },
    {
      "cell_type": "code",
      "source": [
        "# Chart - 11 visualization code"
      ],
      "metadata": {
        "id": "mAQTIvtqp1cj"
      },
      "execution_count": null,
      "outputs": []
    },
    {
      "cell_type": "markdown",
      "source": [
        "##### 1. Why did you pick the specific chart?"
      ],
      "metadata": {
        "id": "X_VqEhTip1ck"
      }
    },
    {
      "cell_type": "markdown",
      "source": [
        "Answer Here."
      ],
      "metadata": {
        "id": "-vsMzt_np1ck"
      }
    },
    {
      "cell_type": "markdown",
      "source": [
        "##### 2. What is/are the insight(s) found from the chart?"
      ],
      "metadata": {
        "id": "8zGJKyg5p1ck"
      }
    },
    {
      "cell_type": "markdown",
      "source": [
        "Answer Here"
      ],
      "metadata": {
        "id": "ZYdMsrqVp1ck"
      }
    },
    {
      "cell_type": "markdown",
      "source": [
        "##### 3. Will the gained insights help creating a positive business impact? \n",
        "Are there any insights that lead to negative growth? Justify with specific reason."
      ],
      "metadata": {
        "id": "PVzmfK_Ep1ck"
      }
    },
    {
      "cell_type": "markdown",
      "source": [
        "Answer Here"
      ],
      "metadata": {
        "id": "druuKYZpp1ck"
      }
    },
    {
      "cell_type": "markdown",
      "source": [
        "#### Chart - 12"
      ],
      "metadata": {
        "id": "n3dbpmDWp1ck"
      }
    },
    {
      "cell_type": "code",
      "source": [
        "# Chart - 12 visualization code"
      ],
      "metadata": {
        "id": "bwevp1tKp1ck"
      },
      "execution_count": null,
      "outputs": []
    },
    {
      "cell_type": "markdown",
      "source": [
        "##### 1. Why did you pick the specific chart?"
      ],
      "metadata": {
        "id": "ylSl6qgtp1ck"
      }
    },
    {
      "cell_type": "markdown",
      "source": [
        "Answer Here."
      ],
      "metadata": {
        "id": "m2xqNkiQp1ck"
      }
    },
    {
      "cell_type": "markdown",
      "source": [
        "##### 2. What is/are the insight(s) found from the chart?"
      ],
      "metadata": {
        "id": "ZWILFDl5p1ck"
      }
    },
    {
      "cell_type": "markdown",
      "source": [
        "Answer Here"
      ],
      "metadata": {
        "id": "x-lUsV2mp1ck"
      }
    },
    {
      "cell_type": "markdown",
      "source": [
        "##### 3. Will the gained insights help creating a positive business impact? \n",
        "Are there any insights that lead to negative growth? Justify with specific reason."
      ],
      "metadata": {
        "id": "M7G43BXep1ck"
      }
    },
    {
      "cell_type": "markdown",
      "source": [
        "Answer Here"
      ],
      "metadata": {
        "id": "5wwDJXsLp1cl"
      }
    },
    {
      "cell_type": "markdown",
      "source": [
        "#### Chart - 13"
      ],
      "metadata": {
        "id": "Ag9LCva-p1cl"
      }
    },
    {
      "cell_type": "code",
      "source": [
        "# Chart - 13 visualization code"
      ],
      "metadata": {
        "id": "EUfxeq9-p1cl"
      },
      "execution_count": null,
      "outputs": []
    },
    {
      "cell_type": "markdown",
      "source": [
        "##### 1. Why did you pick the specific chart?"
      ],
      "metadata": {
        "id": "E6MkPsBcp1cl"
      }
    },
    {
      "cell_type": "markdown",
      "source": [
        "Answer Here."
      ],
      "metadata": {
        "id": "V22bRsFWp1cl"
      }
    },
    {
      "cell_type": "markdown",
      "source": [
        "##### 2. What is/are the insight(s) found from the chart?"
      ],
      "metadata": {
        "id": "2cELzS2fp1cl"
      }
    },
    {
      "cell_type": "markdown",
      "source": [
        "Answer Here"
      ],
      "metadata": {
        "id": "ozQPc2_Ip1cl"
      }
    },
    {
      "cell_type": "markdown",
      "source": [
        "##### 3. Will the gained insights help creating a positive business impact? \n",
        "Are there any insights that lead to negative growth? Justify with specific reason."
      ],
      "metadata": {
        "id": "3MPXvC8up1cl"
      }
    },
    {
      "cell_type": "markdown",
      "source": [
        "Answer Here"
      ],
      "metadata": {
        "id": "GL8l1tdLp1cl"
      }
    },
    {
      "cell_type": "markdown",
      "source": [
        "#### Chart - 14 - Correlation Heatmap"
      ],
      "metadata": {
        "id": "NC_X3p0fY2L0"
      }
    },
    {
      "cell_type": "code",
      "source": [
        "# Correlation Heatmap visualization code"
      ],
      "metadata": {
        "id": "xyC9zolEZNRQ"
      },
      "execution_count": null,
      "outputs": []
    },
    {
      "cell_type": "markdown",
      "source": [
        "##### 1. Why did you pick the specific chart?"
      ],
      "metadata": {
        "id": "UV0SzAkaZNRQ"
      }
    },
    {
      "cell_type": "markdown",
      "source": [
        "Answer Here."
      ],
      "metadata": {
        "id": "DVPuT8LYZNRQ"
      }
    },
    {
      "cell_type": "markdown",
      "source": [
        "##### 2. What is/are the insight(s) found from the chart?"
      ],
      "metadata": {
        "id": "YPEH6qLeZNRQ"
      }
    },
    {
      "cell_type": "markdown",
      "source": [
        "Answer Here"
      ],
      "metadata": {
        "id": "bfSqtnDqZNRR"
      }
    },
    {
      "cell_type": "markdown",
      "source": [
        "#### Chart - 15 - Pair Plot "
      ],
      "metadata": {
        "id": "q29F0dvdveiT"
      }
    },
    {
      "cell_type": "code",
      "source": [
        "# Pair Plot visualization code"
      ],
      "metadata": {
        "id": "o58-TEIhveiU"
      },
      "execution_count": null,
      "outputs": []
    },
    {
      "cell_type": "markdown",
      "source": [
        "##### 1. Why did you pick the specific chart?"
      ],
      "metadata": {
        "id": "EXh0U9oCveiU"
      }
    },
    {
      "cell_type": "markdown",
      "source": [
        "Answer Here."
      ],
      "metadata": {
        "id": "eMmPjTByveiU"
      }
    },
    {
      "cell_type": "markdown",
      "source": [
        "##### 2. What is/are the insight(s) found from the chart?"
      ],
      "metadata": {
        "id": "22aHeOlLveiV"
      }
    },
    {
      "cell_type": "markdown",
      "source": [
        "Answer Here"
      ],
      "metadata": {
        "id": "uPQ8RGwHveiV"
      }
    },
    {
      "cell_type": "markdown",
      "source": [
        "## **5. Solution to Business Objective**"
      ],
      "metadata": {
        "id": "JcMwzZxoAimU"
      }
    },
    {
      "cell_type": "markdown",
      "source": [
        "#### What do you suggest the client to achieve Business Objective ? \n",
        "Explain Briefly."
      ],
      "metadata": {
        "id": "8G2x9gOozGDZ"
      }
    },
    {
      "cell_type": "markdown",
      "source": [
        "Answer Here."
      ],
      "metadata": {
        "id": "pASKb0qOza21"
      }
    },
    {
      "cell_type": "markdown",
      "source": [
        "# **Conclusion**"
      ],
      "metadata": {
        "id": "gCX9965dhzqZ"
      }
    },
    {
      "cell_type": "markdown",
      "source": [
        "Write the conclusion here."
      ],
      "metadata": {
        "id": "Fjb1IsQkh3yE"
      }
    },
    {
      "cell_type": "markdown",
      "source": [
        "### ***Hurrah! You have successfully completed your EDA Capstone Project !!!***"
      ],
      "metadata": {
        "id": "gIfDvo9L0UH2"
      }
    }
  ]
}